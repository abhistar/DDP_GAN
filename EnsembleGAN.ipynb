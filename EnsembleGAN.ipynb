{
  "nbformat": 4,
  "nbformat_minor": 0,
  "metadata": {
    "colab": {
      "name": "EnsembleGAN.ipynb",
      "provenance": [],
      "collapsed_sections": [],
      "mount_file_id": "1OMHdIqRMX18MPmaTgN0xD1pfTpQZH5hn",
      "authorship_tag": "ABX9TyOOq/NJhPrykmTE9j5eFjKv",
      "include_colab_link": true
    },
    "kernelspec": {
      "name": "python3",
      "display_name": "Python 3"
    },
    "language_info": {
      "name": "python"
    },
    "accelerator": "GPU"
  },
  "cells": [
    {
      "cell_type": "markdown",
      "metadata": {
        "id": "view-in-github",
        "colab_type": "text"
      },
      "source": [
        "<a href=\"https://colab.research.google.com/github/abhistar/DDP_GAN/blob/main/EnsembleGAN.ipynb\" target=\"_parent\"><img src=\"https://colab.research.google.com/assets/colab-badge.svg\" alt=\"Open In Colab\"/></a>"
      ]
    },
    {
      "cell_type": "code",
      "metadata": {
        "id": "AYAgQrAqSfGP"
      },
      "source": [
        "import os\n",
        "import random\n",
        "import torch\n",
        "import torch.nn as nn\n",
        "import torch.nn.functional as F\n",
        "import torch.nn.parallel\n",
        "import torch.backends.cudnn as cudnn\n",
        "import torch.optim as optim\n",
        "import torch.utils.data\n",
        "import torchvision.datasets as dset\n",
        "import torchvision.transforms as transforms\n",
        "import torchvision.utils as vutils\n",
        "import torchvision.models as models\n",
        "import numpy as np\n",
        "import matplotlib.pyplot as plt\n",
        "from tqdm import tqdm\n",
        "import copy\n",
        "from PIL import Image\n",
        "from torch.autograd import Variable\n",
        "import time\n",
        "import warnings\n",
        "from matplotlib.ticker import FuncFormatter\n",
        "import itertools\n",
        " \n",
        "warnings.filterwarnings('ignore')\n",
        " \n",
        "%matplotlib inline"
      ],
      "execution_count": null,
      "outputs": []
    },
    {
      "cell_type": "code",
      "metadata": {
        "colab": {
          "base_uri": "https://localhost:8080/"
        },
        "id": "YYQxv_zWSxvu",
        "outputId": "bb06a40d-5470-4d50-97dc-4346ec938495"
      },
      "source": [
        "manual_seed = int(time.time())\n",
        "print(\"Random Seed: \", manual_seed)\n",
        "random.seed(manual_seed)\n",
        "torch.manual_seed(manual_seed)\n",
        " \n",
        "# location of folder\n",
        "dataroot = \"drive/MyDrive/SuperFolderTrainData\"\n",
        "# number of workers\n",
        "workers = 2\n",
        "# batch size for training\n",
        "batch_size = 30\n",
        "# image size for input\n",
        "image_size = 128\n",
        "# number of channel (1 for BW, 3 for RGB)\n",
        "nc = 3\n",
        "# Size of z latent vector (i.e. size of generator input)\n",
        "nz = 16\n",
        "# Size of feature maps in generator\n",
        "ngf = 128\n",
        "# Size of feature maps in discriminator\n",
        "ndf = 128\n",
        "# Number of training epochs\n",
        "num_epochs = 50\n",
        "# Learning rate for optimizers\n",
        "lr = 0.0005\n",
        "# Style loss weight\n",
        "Msl_loss_weight = 0.003\n",
        "SRsl_loss_weight = 0.015\n",
        "# Colapse loss weight\n",
        "Mcl_loss_weight = 0.015\n",
        "SRcl_loss_weight = 0.002\n",
        "# Beta values hyperparam for Adam optimizers\n",
        "beta1 = 0.5\n",
        "beta2 = 0.99\n",
        "# Number of GPUs available, currently running on CPU\n",
        "ngpu = 1\n",
        " \n",
        "print(torch.cuda.get_device_name(torch.cuda.current_device()))"
      ],
      "execution_count": null,
      "outputs": [
        {
          "output_type": "stream",
          "text": [
            "Random Seed:  1624920958\n",
            "Tesla T4\n"
          ],
          "name": "stdout"
        }
      ]
    },
    {
      "cell_type": "code",
      "metadata": {
        "id": "biP2ItAtTW7B"
      },
      "source": [
        "# define weights for layer and normalisation\n",
        "def weights_init(m):\n",
        "    classname = m.__class__.__name__\n",
        "    if classname.find('Conv')!=-1:\n",
        "        nn.init.normal_(m.weight.data, 0.0, 0.02)\n",
        "    elif classname.find('BatchNorm')!=-1:\n",
        "        nn.init.normal_(m.weight, 1.0, 0.02)\n",
        "        nn.init.constant_(m.bias.data, 0)\n",
        " \n",
        "# setup dataset and data loader\n",
        "# dataloader for microstructure images\n",
        "Mdataset = dset.ImageFolder(root=dataroot, transform=transforms.Compose([transforms.Resize(int(image_size/2)), \n",
        "                                                                        transforms.CenterCrop(int(image_size/2)),\n",
        "                                                                        transforms.ToTensor(),\n",
        "                                                                        transforms.Normalize([0.485, 0.456, 0.406], [0.229, 0.224, 0.225])]))\n",
        " \n",
        "Mdataloader = torch.utils.data.DataLoader(Mdataset, batch_size=batch_size, shuffle=True, num_workers=workers)\n",
        "\n",
        "# dataloader for sr images\n",
        "SRdataset = dset.ImageFolder(root=dataroot, transform=transforms.Compose([transforms.Resize(image_size), \n",
        "                                                                        transforms.CenterCrop(image_size),\n",
        "                                                                        transforms.ToTensor(),\n",
        "                                                                        transforms.Normalize([0.485, 0.456, 0.406], [0.229, 0.224, 0.225])]))\n",
        "\n",
        "SRdataloader = torch.utils.data.DataLoader(SRdataset, batch_size=batch_size, shuffle=True, num_workers=workers)\n",
        "\n",
        " \n",
        "device = torch.device(\"cuda:0\" if(torch.cuda.is_available() and ngpu>0) else \"cpu\")"
      ],
      "execution_count": null,
      "outputs": []
    },
    {
      "cell_type": "markdown",
      "metadata": {
        "id": "PmDTEgDBVIRS"
      },
      "source": [
        "# **Generator Module**"
      ]
    },
    {
      "cell_type": "code",
      "metadata": {
        "id": "1gFA2y9zvTXc"
      },
      "source": [
        "class Generator(nn.Module):\n",
        "  def __init__(self, ngpu):\n",
        "    super(Generator, self).__init__()\n",
        "    self.ngpu = ngpu\n",
        "    self.main = nn.Sequential()\n",
        "    \n",
        "    # input z into convolution\n",
        "    self.main.add_module('conv1', nn.ConvTranspose2d(nz, ngf*8, 8, 2, 0, bias=False))\n",
        "    self.main.add_module('btch1', nn.BatchNorm2d(ngf*8))\n",
        "    self.main.add_module('relu1', nn.ReLU(True))\n",
        "\n",
        "    # state ngf * 8 * 8\n",
        "    self.main.add_module('conv2', nn.ConvTranspose2d(ngf*8, ngf*4, 4, 2, 1, bias=False))\n",
        "    self.main.add_module('btch2', nn.BatchNorm2d(ngf*4))\n",
        "    self.main.add_module('relu2', nn.ReLU(True))\n",
        "            \n",
        "    # state ngf/2 * 16*16\n",
        "    self.main.add_module('conv3', nn.ConvTranspose2d(ngf*4, ngf*2, 4, 2, 1, bias=False))\n",
        "    self.main.add_module('btch3', nn.BatchNorm2d(ngf*2))\n",
        "    self.main.add_module('relu3', nn.ReLU(True))\n",
        "            \n",
        "    # state ngf/4 * 32*32\n",
        "    self.main.add_module('conv4', nn.ConvTranspose2d(ngf*2, ngf, 4, 2, 1, bias=False))\n",
        "    self.main.add_module('btch4', nn.BatchNorm2d(ngf))\n",
        "    self.main.add_module('relu4', nn.ReLU(True))\n",
        "            \n",
        "    # state ngf/8 *64*64\n",
        "    self.main.add_module('conv5', nn.ConvTranspose2d(ngf, nc, 1, 1, 0, bias=False))\n",
        "    self.main.add_module('output', nn.Tanh())\n",
        "        \n",
        "    #state 3 *64*64\n",
        "        \n",
        "  def forward(self, input):\n",
        "    return self.main(input)"
      ],
      "execution_count": null,
      "outputs": []
    },
    {
      "cell_type": "code",
      "metadata": {
        "colab": {
          "base_uri": "https://localhost:8080/"
        },
        "id": "s2usFGmkWrED",
        "outputId": "29ced22f-b3a8-4e90-e9d4-10531a749a0d"
      },
      "source": [
        "# Create Generator for producing microstructure images\n",
        "mGen = Generator(ngpu=ngpu).to(device)\n",
        "mGen.apply(weights_init)\n",
        "\n",
        "print(mGen)"
      ],
      "execution_count": null,
      "outputs": [
        {
          "output_type": "stream",
          "text": [
            "Generator(\n",
            "  (main): Sequential(\n",
            "    (conv1): ConvTranspose2d(16, 1024, kernel_size=(8, 8), stride=(2, 2), bias=False)\n",
            "    (btch1): BatchNorm2d(1024, eps=1e-05, momentum=0.1, affine=True, track_running_stats=True)\n",
            "    (relu1): ReLU(inplace=True)\n",
            "    (conv2): ConvTranspose2d(1024, 512, kernel_size=(4, 4), stride=(2, 2), padding=(1, 1), bias=False)\n",
            "    (btch2): BatchNorm2d(512, eps=1e-05, momentum=0.1, affine=True, track_running_stats=True)\n",
            "    (relu2): ReLU(inplace=True)\n",
            "    (conv3): ConvTranspose2d(512, 256, kernel_size=(4, 4), stride=(2, 2), padding=(1, 1), bias=False)\n",
            "    (btch3): BatchNorm2d(256, eps=1e-05, momentum=0.1, affine=True, track_running_stats=True)\n",
            "    (relu3): ReLU(inplace=True)\n",
            "    (conv4): ConvTranspose2d(256, 128, kernel_size=(4, 4), stride=(2, 2), padding=(1, 1), bias=False)\n",
            "    (btch4): BatchNorm2d(128, eps=1e-05, momentum=0.1, affine=True, track_running_stats=True)\n",
            "    (relu4): ReLU(inplace=True)\n",
            "    (conv5): ConvTranspose2d(128, 3, kernel_size=(1, 1), stride=(1, 1), bias=False)\n",
            "    (output): Tanh()\n",
            "  )\n",
            ")\n"
          ],
          "name": "stdout"
        }
      ]
    },
    {
      "cell_type": "code",
      "metadata": {
        "id": "CZyLiEdZVTPZ"
      },
      "source": [
        "class DenseLayer(nn.Module):\n",
        "  def __init__(self, in_size, growth_rate, bn_size, drop_rate=0.0):\n",
        "    super(DenseLayer, self).__init__()\n",
        "    self.bottleneck = nn.Sequential() # define bottleneck layers\n",
        "    self.bottleneck.add_module('btch1', nn.BatchNorm2d(in_size))\n",
        "    self.bottleneck.add_module('relu1', nn.ReLU(inplace=True))\n",
        "    self.bottleneck.add_module('conv1', nn.ConvTranspose2d(in_size, bn_size*growth_rate, kernel_size=1, stride=1, padding=0, bias=False))\n",
        " \n",
        "    self.basic = nn.Sequential() # define basic block\n",
        "    self.basic.add_module('btch2', nn.BatchNorm2d(bn_size*growth_rate))\n",
        "    self.basic.add_module('relu2', nn.ReLU(inplace=True))\n",
        "    self.basic.add_module('conv2', nn.ConvTranspose2d(bn_size*growth_rate, growth_rate, kernel_size=3, stride=1, padding=1, bias=False))\n",
        " \n",
        "    self.droprate = drop_rate\n",
        " \n",
        "  def forward(self, input):\n",
        "    out = self.bottleneck(input)\n",
        "    if self.droprate > 0:\n",
        "      out = F.dropout(out, p=self.droprate, inplace=False, training=self.training)\n",
        "    \n",
        "    out = self.basic(out)\n",
        "    if self.droprate > 0:\n",
        "      out = F.dropout(out, p=self.droprate, inplace=False, training=self.training)\n",
        "    return torch.cat((input,out), 1)\n",
        " \n",
        "class TransitionLayer(nn.Module):\n",
        "  def __init__(self, in_size, out_size, drop_rate=0.0):\n",
        "    super(TransitionLayer, self).__init__()\n",
        "    self.trans = nn.Sequential()\n",
        "    self.trans.add_module('btch', nn.BatchNorm2d(in_size))\n",
        "    self.trans.add_module('relu', nn.ReLU(inplace=True))\n",
        "    self.trans.add_module('conv', nn.ConvTranspose2d(in_size, out_size, kernel_size=1, stride=1, padding=0, bias=False))\n",
        " \n",
        "    self.droprate = drop_rate\n",
        " \n",
        "  def forward(self, input):\n",
        "    out = self.trans(input)\n",
        "    if self.droprate > 0:\n",
        "      out = F.dropout(out, p=self.droprate, inplace=False, training=self.training)\n",
        " \n",
        "    return out\n",
        "\n",
        "class DenseBlock(nn.Module):\n",
        "  def __init__(self, num_layers, in_size, growth_rate, bn_size, droprate=0.0):\n",
        "    super(DenseBlock, self).__init__()\n",
        "    self.dblayer = nn.Sequential()\n",
        " \n",
        "    for i in range(num_layers):\n",
        "      layer = DenseLayer(in_size=(in_size+i*growth_rate), growth_rate=growth_rate, bn_size=bn_size, drop_rate=droprate)\n",
        "      self.dblayer.add_module('denselayer{}'.format(i+1), layer)\n",
        " \n",
        "  def forward(self, input):\n",
        "    return self.dblayer(input)\n",
        "\n",
        "class GenDenseNet(nn.Module):\n",
        "  def __init__(self, ngpu, growth_rate=12, block_config=(1,2,2,1), in_size=512, bn_size=4, drop_rate=0.0):\n",
        "    super(GenDenseNet, self).__init__()\n",
        "    self.ngpu = ngpu\n",
        "    self.features = nn.Sequential()\n",
        "    self.features.add_module('btch0', nn.BatchNorm2d(in_size))\n",
        " \n",
        "    num_features = in_size\n",
        "    for i, num_layers in enumerate(block_config):\n",
        "      block = DenseBlock(num_layers=num_layers, in_size=num_features, growth_rate=growth_rate, bn_size=bn_size, droprate=drop_rate)\n",
        "      self.features.add_module('denseblock{}'.format(i+1), block)\n",
        "      num_features += num_layers*growth_rate\n",
        " \n",
        "      if i!=len(block_config)-1:\n",
        "        trans = TransitionLayer(in_size=num_features, out_size=num_features*2, drop_rate=drop_rate)\n",
        "        self.features.add_module('transitionblock{}'.format(i+1), trans)\n",
        "        num_features *= 2\n",
        " \n",
        "    self.features.add_module('convfinal', nn.ConvTranspose2d(num_features, 3, kernel_size=8, stride=2, padding=3, bias=False))\n",
        "    self.features.add_module('Tanh', nn.Tanh())\n",
        " \n",
        "  def forward(self, input):\n",
        "    return self.features(input)"
      ],
      "execution_count": null,
      "outputs": []
    },
    {
      "cell_type": "code",
      "metadata": {
        "colab": {
          "base_uri": "https://localhost:8080/"
        },
        "id": "l4U_ouB4X8Ny",
        "outputId": "410095af-c58a-45fb-a1f2-ce55ec15f74a"
      },
      "source": [
        "# Create Generator for producing SR images\n",
        "srGen = GenDenseNet(ngpu=ngpu, in_size=3).to(device)\n",
        "srGen.apply(weights_init)\n",
        "\n",
        "print(srGen)"
      ],
      "execution_count": null,
      "outputs": [
        {
          "output_type": "stream",
          "text": [
            "GenDenseNet(\n",
            "  (features): Sequential(\n",
            "    (btch0): BatchNorm2d(3, eps=1e-05, momentum=0.1, affine=True, track_running_stats=True)\n",
            "    (denseblock1): DenseBlock(\n",
            "      (dblayer): Sequential(\n",
            "        (denselayer1): DenseLayer(\n",
            "          (bottleneck): Sequential(\n",
            "            (btch1): BatchNorm2d(3, eps=1e-05, momentum=0.1, affine=True, track_running_stats=True)\n",
            "            (relu1): ReLU()\n",
            "            (conv1): ConvTranspose2d(3, 48, kernel_size=(1, 1), stride=(1, 1), bias=False)\n",
            "          )\n",
            "          (basic): Sequential(\n",
            "            (btch2): BatchNorm2d(48, eps=1e-05, momentum=0.1, affine=True, track_running_stats=True)\n",
            "            (relu2): ReLU()\n",
            "            (conv2): ConvTranspose2d(48, 12, kernel_size=(3, 3), stride=(1, 1), padding=(1, 1), bias=False)\n",
            "          )\n",
            "        )\n",
            "      )\n",
            "    )\n",
            "    (transitionblock1): TransitionLayer(\n",
            "      (trans): Sequential(\n",
            "        (btch): BatchNorm2d(15, eps=1e-05, momentum=0.1, affine=True, track_running_stats=True)\n",
            "        (relu): ReLU()\n",
            "        (conv): ConvTranspose2d(15, 30, kernel_size=(1, 1), stride=(1, 1), bias=False)\n",
            "      )\n",
            "    )\n",
            "    (denseblock2): DenseBlock(\n",
            "      (dblayer): Sequential(\n",
            "        (denselayer1): DenseLayer(\n",
            "          (bottleneck): Sequential(\n",
            "            (btch1): BatchNorm2d(30, eps=1e-05, momentum=0.1, affine=True, track_running_stats=True)\n",
            "            (relu1): ReLU()\n",
            "            (conv1): ConvTranspose2d(30, 48, kernel_size=(1, 1), stride=(1, 1), bias=False)\n",
            "          )\n",
            "          (basic): Sequential(\n",
            "            (btch2): BatchNorm2d(48, eps=1e-05, momentum=0.1, affine=True, track_running_stats=True)\n",
            "            (relu2): ReLU()\n",
            "            (conv2): ConvTranspose2d(48, 12, kernel_size=(3, 3), stride=(1, 1), padding=(1, 1), bias=False)\n",
            "          )\n",
            "        )\n",
            "        (denselayer2): DenseLayer(\n",
            "          (bottleneck): Sequential(\n",
            "            (btch1): BatchNorm2d(42, eps=1e-05, momentum=0.1, affine=True, track_running_stats=True)\n",
            "            (relu1): ReLU()\n",
            "            (conv1): ConvTranspose2d(42, 48, kernel_size=(1, 1), stride=(1, 1), bias=False)\n",
            "          )\n",
            "          (basic): Sequential(\n",
            "            (btch2): BatchNorm2d(48, eps=1e-05, momentum=0.1, affine=True, track_running_stats=True)\n",
            "            (relu2): ReLU()\n",
            "            (conv2): ConvTranspose2d(48, 12, kernel_size=(3, 3), stride=(1, 1), padding=(1, 1), bias=False)\n",
            "          )\n",
            "        )\n",
            "      )\n",
            "    )\n",
            "    (transitionblock2): TransitionLayer(\n",
            "      (trans): Sequential(\n",
            "        (btch): BatchNorm2d(54, eps=1e-05, momentum=0.1, affine=True, track_running_stats=True)\n",
            "        (relu): ReLU()\n",
            "        (conv): ConvTranspose2d(54, 108, kernel_size=(1, 1), stride=(1, 1), bias=False)\n",
            "      )\n",
            "    )\n",
            "    (denseblock3): DenseBlock(\n",
            "      (dblayer): Sequential(\n",
            "        (denselayer1): DenseLayer(\n",
            "          (bottleneck): Sequential(\n",
            "            (btch1): BatchNorm2d(108, eps=1e-05, momentum=0.1, affine=True, track_running_stats=True)\n",
            "            (relu1): ReLU()\n",
            "            (conv1): ConvTranspose2d(108, 48, kernel_size=(1, 1), stride=(1, 1), bias=False)\n",
            "          )\n",
            "          (basic): Sequential(\n",
            "            (btch2): BatchNorm2d(48, eps=1e-05, momentum=0.1, affine=True, track_running_stats=True)\n",
            "            (relu2): ReLU()\n",
            "            (conv2): ConvTranspose2d(48, 12, kernel_size=(3, 3), stride=(1, 1), padding=(1, 1), bias=False)\n",
            "          )\n",
            "        )\n",
            "        (denselayer2): DenseLayer(\n",
            "          (bottleneck): Sequential(\n",
            "            (btch1): BatchNorm2d(120, eps=1e-05, momentum=0.1, affine=True, track_running_stats=True)\n",
            "            (relu1): ReLU()\n",
            "            (conv1): ConvTranspose2d(120, 48, kernel_size=(1, 1), stride=(1, 1), bias=False)\n",
            "          )\n",
            "          (basic): Sequential(\n",
            "            (btch2): BatchNorm2d(48, eps=1e-05, momentum=0.1, affine=True, track_running_stats=True)\n",
            "            (relu2): ReLU()\n",
            "            (conv2): ConvTranspose2d(48, 12, kernel_size=(3, 3), stride=(1, 1), padding=(1, 1), bias=False)\n",
            "          )\n",
            "        )\n",
            "      )\n",
            "    )\n",
            "    (transitionblock3): TransitionLayer(\n",
            "      (trans): Sequential(\n",
            "        (btch): BatchNorm2d(132, eps=1e-05, momentum=0.1, affine=True, track_running_stats=True)\n",
            "        (relu): ReLU()\n",
            "        (conv): ConvTranspose2d(132, 264, kernel_size=(1, 1), stride=(1, 1), bias=False)\n",
            "      )\n",
            "    )\n",
            "    (denseblock4): DenseBlock(\n",
            "      (dblayer): Sequential(\n",
            "        (denselayer1): DenseLayer(\n",
            "          (bottleneck): Sequential(\n",
            "            (btch1): BatchNorm2d(264, eps=1e-05, momentum=0.1, affine=True, track_running_stats=True)\n",
            "            (relu1): ReLU()\n",
            "            (conv1): ConvTranspose2d(264, 48, kernel_size=(1, 1), stride=(1, 1), bias=False)\n",
            "          )\n",
            "          (basic): Sequential(\n",
            "            (btch2): BatchNorm2d(48, eps=1e-05, momentum=0.1, affine=True, track_running_stats=True)\n",
            "            (relu2): ReLU()\n",
            "            (conv2): ConvTranspose2d(48, 12, kernel_size=(3, 3), stride=(1, 1), padding=(1, 1), bias=False)\n",
            "          )\n",
            "        )\n",
            "      )\n",
            "    )\n",
            "    (convfinal): ConvTranspose2d(276, 3, kernel_size=(8, 8), stride=(2, 2), padding=(3, 3), bias=False)\n",
            "    (Tanh): Tanh()\n",
            "  )\n",
            ")\n"
          ],
          "name": "stdout"
        }
      ]
    },
    {
      "cell_type": "markdown",
      "metadata": {
        "id": "BuiEen-xZQs3"
      },
      "source": [
        "# **Discriminator Module**"
      ]
    },
    {
      "cell_type": "code",
      "metadata": {
        "id": "5v5F1r8QZWV2"
      },
      "source": [
        "class Discriminator(nn.Module):\n",
        "  def __init__(self, ngpu, final_kernel_size=8): #final_kernel_size=8 ->128 | =4 -> 64 image size\n",
        "    super(Discriminator, self).__init__()\n",
        "    self.ngpu = ngpu\n",
        "    self.main = nn.Sequential()\n",
        "\n",
        "    # input is (nc) *128*128\n",
        "    self.main.add_module('conv1', nn.Conv2d(nc, ndf, kernel_size=4, stride=2, padding=1, bias=False))\n",
        "    self.main.add_module('btch1', nn.BatchNorm2d(ndf))\n",
        "    self.main.add_module('relu1', nn.LeakyReLU(0.2, inplace=True))\n",
        "\n",
        "    # input is ndf/8 *64*64\n",
        "    self.main.add_module('conv2', nn.Conv2d(ndf, ndf*2, kernel_size=4, stride=2, padding=1, bias=False))\n",
        "    self.main.add_module('btch2', nn.BatchNorm2d(ndf*2))\n",
        "    self.main.add_module('relu2', nn.LeakyReLU(0.2, inplace=True))\n",
        "\n",
        "    #input is ndf/4 *32*32\n",
        "    self.main.add_module('conv3', nn.Conv2d(ndf*2, ndf*4, kernel_size=4, stride=2, padding=1, bias=False))\n",
        "    self.main.add_module('btch3', nn.BatchNorm2d(ndf*4))\n",
        "    self.main.add_module('relu3', nn.LeakyReLU(0.2, inplace=True))\n",
        "\n",
        "    #input is ndf/2 *16*16\n",
        "    self.main.add_module('conv4', nn.Conv2d(ndf*4, ndf*8, kernel_size=4, stride=2, padding=1, bias=False))\n",
        "    self.main.add_module('btch4', nn.BatchNorm2d(ndf*8))\n",
        "    self.main.add_module('relu4', nn.LeakyReLU(0.2, inplace=True))\n",
        "\n",
        "    #input is ndf *8*8\n",
        "    self.main.add_module('conv5', nn.Conv2d(ndf*8, 1, kernel_size=final_kernel_size, stride=1, padding=0, bias=False))\n",
        "    self.main.add_module('output', nn.Sigmoid())\n",
        "\n",
        "  def forward(self, input):\n",
        "    return self.main(input)"
      ],
      "execution_count": null,
      "outputs": []
    },
    {
      "cell_type": "code",
      "metadata": {
        "colab": {
          "base_uri": "https://localhost:8080/"
        },
        "id": "AcsO1aJbp1J1",
        "outputId": "bb4a7c83-5fa7-4691-af24-dd9ea1cfd25e"
      },
      "source": [
        "# Create discriminitor to distinguish microstructure\n",
        "mDis = Discriminator(ngpu=ngpu, final_kernel_size=4).to(device)\n",
        "mDis.apply(weights_init)\n",
        "\n",
        "print(mDis)"
      ],
      "execution_count": null,
      "outputs": [
        {
          "output_type": "stream",
          "text": [
            "Discriminator(\n",
            "  (main): Sequential(\n",
            "    (conv1): Conv2d(3, 128, kernel_size=(4, 4), stride=(2, 2), padding=(1, 1), bias=False)\n",
            "    (btch1): BatchNorm2d(128, eps=1e-05, momentum=0.1, affine=True, track_running_stats=True)\n",
            "    (relu1): LeakyReLU(negative_slope=0.2, inplace=True)\n",
            "    (conv2): Conv2d(128, 256, kernel_size=(4, 4), stride=(2, 2), padding=(1, 1), bias=False)\n",
            "    (btch2): BatchNorm2d(256, eps=1e-05, momentum=0.1, affine=True, track_running_stats=True)\n",
            "    (relu2): LeakyReLU(negative_slope=0.2, inplace=True)\n",
            "    (conv3): Conv2d(256, 512, kernel_size=(4, 4), stride=(2, 2), padding=(1, 1), bias=False)\n",
            "    (btch3): BatchNorm2d(512, eps=1e-05, momentum=0.1, affine=True, track_running_stats=True)\n",
            "    (relu3): LeakyReLU(negative_slope=0.2, inplace=True)\n",
            "    (conv4): Conv2d(512, 1024, kernel_size=(4, 4), stride=(2, 2), padding=(1, 1), bias=False)\n",
            "    (btch4): BatchNorm2d(1024, eps=1e-05, momentum=0.1, affine=True, track_running_stats=True)\n",
            "    (relu4): LeakyReLU(negative_slope=0.2, inplace=True)\n",
            "    (conv5): Conv2d(1024, 1, kernel_size=(4, 4), stride=(1, 1), bias=False)\n",
            "    (output): Sigmoid()\n",
            "  )\n",
            ")\n"
          ],
          "name": "stdout"
        }
      ]
    },
    {
      "cell_type": "code",
      "metadata": {
        "colab": {
          "base_uri": "https://localhost:8080/"
        },
        "id": "ixzElmGgr_Ey",
        "outputId": "e955919f-1a21-4e90-f32c-73b195bd767a"
      },
      "source": [
        "# Create discriminator to distinguish SR images\n",
        "srDis = Discriminator(ngpu=ngpu).to(device)\n",
        "srDis.apply(weights_init)\n",
        "\n",
        "print(srDis)"
      ],
      "execution_count": null,
      "outputs": [
        {
          "output_type": "stream",
          "text": [
            "Discriminator(\n",
            "  (main): Sequential(\n",
            "    (conv1): Conv2d(3, 128, kernel_size=(4, 4), stride=(2, 2), padding=(1, 1), bias=False)\n",
            "    (btch1): BatchNorm2d(128, eps=1e-05, momentum=0.1, affine=True, track_running_stats=True)\n",
            "    (relu1): LeakyReLU(negative_slope=0.2, inplace=True)\n",
            "    (conv2): Conv2d(128, 256, kernel_size=(4, 4), stride=(2, 2), padding=(1, 1), bias=False)\n",
            "    (btch2): BatchNorm2d(256, eps=1e-05, momentum=0.1, affine=True, track_running_stats=True)\n",
            "    (relu2): LeakyReLU(negative_slope=0.2, inplace=True)\n",
            "    (conv3): Conv2d(256, 512, kernel_size=(4, 4), stride=(2, 2), padding=(1, 1), bias=False)\n",
            "    (btch3): BatchNorm2d(512, eps=1e-05, momentum=0.1, affine=True, track_running_stats=True)\n",
            "    (relu3): LeakyReLU(negative_slope=0.2, inplace=True)\n",
            "    (conv4): Conv2d(512, 1024, kernel_size=(4, 4), stride=(2, 2), padding=(1, 1), bias=False)\n",
            "    (btch4): BatchNorm2d(1024, eps=1e-05, momentum=0.1, affine=True, track_running_stats=True)\n",
            "    (relu4): LeakyReLU(negative_slope=0.2, inplace=True)\n",
            "    (conv5): Conv2d(1024, 1, kernel_size=(8, 8), stride=(1, 1), bias=False)\n",
            "    (output): Sigmoid()\n",
            "  )\n",
            ")\n"
          ],
          "name": "stdout"
        }
      ]
    },
    {
      "cell_type": "markdown",
      "metadata": {
        "id": "PuHKmMBXugk0"
      },
      "source": [
        "## Check for inputs and outputs consistency"
      ]
    },
    {
      "cell_type": "code",
      "metadata": {
        "colab": {
          "base_uri": "https://localhost:8080/"
        },
        "id": "yKUxdK_htC1I",
        "outputId": "5e69ce81-440e-44e7-a6c9-837cd9a93475"
      },
      "source": [
        "in_tensor = torch.rand(10, 16, 1, 1).to(device)\n",
        "\n",
        "gen_img = mGen(in_tensor)\n",
        "print(gen_img.shape)"
      ],
      "execution_count": null,
      "outputs": [
        {
          "output_type": "stream",
          "text": [
            "torch.Size([10, 3, 64, 64])\n"
          ],
          "name": "stdout"
        }
      ]
    },
    {
      "cell_type": "code",
      "metadata": {
        "colab": {
          "base_uri": "https://localhost:8080/"
        },
        "id": "TizHIMdGtaza",
        "outputId": "6ffd9784-6a60-4d63-8a21-e8212d896056"
      },
      "source": [
        "sr_img = srGen(gen_img)\n",
        "print(sr_img.shape)"
      ],
      "execution_count": null,
      "outputs": [
        {
          "output_type": "stream",
          "text": [
            "torch.Size([10, 3, 128, 128])\n"
          ],
          "name": "stdout"
        }
      ]
    },
    {
      "cell_type": "code",
      "metadata": {
        "colab": {
          "base_uri": "https://localhost:8080/"
        },
        "id": "cilS-XPCttmP",
        "outputId": "74bc5bcd-8525-480a-af87-e412d6750df5"
      },
      "source": [
        "mdis_tensor = mDis(gen_img)\n",
        "print(mdis_tensor.shape)"
      ],
      "execution_count": null,
      "outputs": [
        {
          "output_type": "stream",
          "text": [
            "torch.Size([10, 1, 1, 1])\n"
          ],
          "name": "stdout"
        }
      ]
    },
    {
      "cell_type": "code",
      "metadata": {
        "colab": {
          "base_uri": "https://localhost:8080/"
        },
        "id": "uFkSSt4euQii",
        "outputId": "45e5765f-9852-4663-b2d2-4ca1cafc5546"
      },
      "source": [
        "srdis_tensor = srDis(sr_img)\n",
        "print(srdis_tensor.shape)"
      ],
      "execution_count": null,
      "outputs": [
        {
          "output_type": "stream",
          "text": [
            "torch.Size([10, 1, 1, 1])\n"
          ],
          "name": "stdout"
        }
      ]
    },
    {
      "cell_type": "markdown",
      "metadata": {
        "id": "tyfTm1TMz3TG"
      },
      "source": [
        "# **Error Functions and Optimizers**"
      ]
    },
    {
      "cell_type": "markdown",
      "metadata": {
        "id": "gnY8s3j_0MwM"
      },
      "source": [
        "### Style Loss"
      ]
    },
    {
      "cell_type": "code",
      "metadata": {
        "id": "EapPR-XZua3f"
      },
      "source": [
        "def gram_matrix(input):\n",
        "  a, b, c, d = input.size() # a=batch size(=1) b=number of feature maps (c,d)=dimensions of a f. map (N=c*d)\n",
        "  features = input.view(a * b, c * d) # resise F_XL into \\hat F_XL\n",
        "  G = torch.mm(features, features.t()) # compute the gram product\n",
        "  return G.div(a * b * c * d) # we 'normalize' the values of the gram matrix by dividing by the number of element in each feature maps.\n",
        "\n",
        "def style_loss(style_layer, combination_layer, num_channels = nc):\n",
        "  assert style_layer.size()==combination_layer.size(), \"Input Sizes do not match in StyleLoss\"\n",
        "  a, b, c, d = style_layer.size() # a=batch size(=1) b=number of feature maps (c,d)=dimensions of a f. map (N=c*d)\n",
        "  styleloss = 0\n",
        "  \n",
        "  for i in range(a):\n",
        "    S = gram_matrix(torch.unsqueeze(style_layer[i], 0)).detach()\n",
        "    C = gram_matrix(torch.unsqueeze(combination_layer[i],0)).detach()\n",
        "    styleloss = torch.add(styleloss, torch.sum(torch.square(S-C)/(2*num_channels*c*d)**2)*3e6)\n",
        "    styleloss = Variable(styleloss, requires_grad=True)\n",
        "\n",
        "  return styleloss\n",
        "\n",
        "def content_loss(content_layer, combination_layer, num_channels = nc):\n",
        "  assert content_layer.size()==combination_layer.size(), \"Input Sizes do not match in Content loss\"\n",
        "  a, b, c, d = content_layer.size()\n",
        "  ctloss = torch.sum(torch.square(content_layer-combination_layer)/(2*num_channels*c*d)**2)\n",
        "  ctloss = Variable(ctloss, requires_grad=True)\n",
        "  return ctloss\n",
        "\n",
        "def colapse_loss(target_feature):\n",
        "  z_d_gen = torch.flatten(target_feature).reshape(1,-1)\n",
        "  nom = torch.mm(z_d_gen, z_d_gen.t())\n",
        "  denom = torch.sqrt(torch.sum(torch.square(z_d_gen), 1, keepdim=True))\n",
        "  pt = torch.square(torch.transpose((nom / denom), 1, 0))\n",
        "  #pt = pt - torch.diag(torch.diag(pt))\n",
        "  pulling_term = torch.sum(pt) / (batch_size * (batch_size - 1)*4e1)\n",
        "  pulling_term = Variable(pulling_term, requires_grad=True)\n",
        "\n",
        "  return pulling_term\n",
        "\n",
        "vgg19 = models.vgg19(pretrained=True).features.to(device).eval()\n",
        "\n",
        "def get_vgg_layers(input, model=vgg19, num_layer=4):\n",
        "  i = 0\n",
        "  Model = copy.deepcopy(model)\n",
        "  list_layers = nn.ModuleList()\n",
        "  module = None\n",
        "  for layer in Model.children():\n",
        "    if isinstance(layer, nn.Conv2d):\n",
        "      i +=1\n",
        "      name = 'conv{}'.format(i)\n",
        "      list_layers.append(module)\n",
        "      module = nn.Sequential()\n",
        "    elif isinstance(layer, nn.ReLU):\n",
        "      name = 'relu{}'.format(i)\n",
        "    elif isinstance(layer, nn.MaxPool2d):\n",
        "      name = 'pool{}'.format(i)\n",
        "    elif isinstance(layer, nn.BatchNorm2d):\n",
        "      name = 'btnm{}'.format(i)\n",
        "    else: \n",
        "      raise RuntimeError('Unrecognized layer: {}'.format(layer.__class__.__name__))\n",
        "\n",
        "    module.add_module(name, layer)\n",
        "\n",
        "    if i >= (num_layer+1):\n",
        "      break\n",
        "\n",
        "  outconv1 = list_layers[1](input)\n",
        "  outconv2 = list_layers[2](outconv1)\n",
        "  outconv3 = list_layers[3](outconv2)\n",
        "  outconv4 = list_layers[4](outconv3)\n",
        "\n",
        "  return outconv1, outconv2, outconv3, outconv4"
      ],
      "execution_count": null,
      "outputs": []
    },
    {
      "cell_type": "code",
      "metadata": {
        "id": "Mt3p3wv90Q8C"
      },
      "source": [
        "def get_style_collapse_loss(style_batch, gen_batch):\n",
        "  Sconv1, Sconv2, Sconv3, Sconv4 = get_vgg_layers(style_batch)\n",
        "  Cconv1, Cconv2, Cconv3, Cconv4 = get_vgg_layers(gen_batch)\n",
        "  \n",
        "  # style loss\n",
        "  s1 = style_loss(Sconv1, Cconv1)\n",
        "  s2 = style_loss(Sconv2, Cconv2)\n",
        "  s3 = style_loss(Sconv3, Cconv3)\n",
        "  s4 = style_loss(Sconv4, Cconv4)\n",
        "  sl_loss = torch.mean(s1+s2+s3+s4)\n",
        "  \n",
        "  Cconv = torch.cat((torch.flatten(Cconv1), torch.flatten(Cconv2), torch.flatten(Cconv3), torch.flatten(Cconv4)), 0)\n",
        "  c = colapse_loss(Cconv)\n",
        "  cl_loss = torch.mean(c)\n",
        "  ct_loss = content_loss(Sconv4, Cconv4)\n",
        "  return sl_loss, cl_loss, ct_loss"
      ],
      "execution_count": null,
      "outputs": []
    },
    {
      "cell_type": "markdown",
      "metadata": {
        "id": "sJLzCpPf1EnF"
      },
      "source": [
        "### Optimizers and BCE loss"
      ]
    },
    {
      "cell_type": "code",
      "metadata": {
        "id": "ZPyJTUVh1DoR"
      },
      "source": [
        "# Initialize BCELoss function\n",
        "criterion = nn.BCELoss()\n",
        " \n",
        "# Create batch of latent vectors that we will use to visualize\n",
        "#  the progression of the generator\n",
        "fixed_noise = torch.randn(1, 16, 1, 1, device=device)\n",
        " \n",
        "# Establish convention for real and fake labels during training\n",
        "real_label = 1.\n",
        "fake_label = 0.\n",
        " \n",
        "# Setup Adam optimizers for all networks\n",
        "optimizerMD = optim.Adam(mDis.parameters(), lr=lr, betas=(0.9, 0.999), weight_decay=0.3)\n",
        "optimizerSRD = optim.Adam(srDis.parameters(), lr=lr, betas=(0.9, 0.999), weight_decay=0.3)\n",
        "optimizerMG = optim.Adam(mGen.parameters(), lr=lr, betas=(0.9, 0.999), weight_decay=0.3)\n",
        "optimizerSRG = optim.SGD(srGen.parameters(), lr=lr, momentum=0.9, dampening=0, weight_decay=0.3, nesterov=True)"
      ],
      "execution_count": null,
      "outputs": []
    },
    {
      "cell_type": "markdown",
      "metadata": {
        "id": "3aWZ0pTMlTwu"
      },
      "source": [
        "# **Training Loop**"
      ]
    },
    {
      "cell_type": "code",
      "metadata": {
        "colab": {
          "base_uri": "https://localhost:8080/"
        },
        "id": "k7HW-4vq2F6L",
        "outputId": "236d50da-145f-4d86-d4a4-7b1121bcf526"
      },
      "source": [
        "mimg_list = [] # stores image produced by mGen\n",
        "srimg_list = [] # stores image produces by srGen\n",
        "mGen_loss = [] # stores losses for mGen\n",
        "srGen_loss = [] # stores losses for srGen\n",
        "mDis_loss = [] # stores losses for mDis\n",
        "srDis_loss = [] # stores losses for srDis\n",
        "mGen_bce = []\n",
        "srGen_bce = []\n",
        "iter = 0 # keeps track of total iterations\n",
        "skip_steps = 5\n",
        "\n",
        "print('Starting Training')\n",
        "for epoch in tqdm(range(num_epochs)):\n",
        "  for (i, mdata), srdata in zip(enumerate(Mdataloader), SRdataloader):\n",
        "    MDis_real, MDis_fake, SRDis_real, SRDis_fake = 0.0, 0.0, 0.0, 0.0\n",
        "    errMDis_real, errMDis_fake, errMDis = None, None, None\n",
        "    errSRDis_real, errSRDis_fake, errSRDis = None, None, None\n",
        "    ########### Train Discriminators ############3\n",
        "    if i%skip_steps == 0:\n",
        "      ############ MDis track ###############\n",
        "      ############# REAL DATA ###############\n",
        "      mDis.zero_grad()\n",
        "      real_mdis_input = mdata[0].to(device)\n",
        "      b_size = real_mdis_input.size(0)\n",
        "      label = torch.full((b_size,), real_label, dtype=torch.float, device=device)\n",
        "      moutput = mDis(real_mdis_input).view(-1)\n",
        "\n",
        "      errMDis_real = criterion(moutput, label)\n",
        "      errMDis_real.backward()\n",
        "      MDis_real = moutput.mean().item()\n",
        "\n",
        "      ############# FAKE DATA ###############\n",
        "      noise = torch.randn(b_size, 16, 1, 1, device=device)\n",
        "      fake_mdis_input = mGen(noise)\n",
        "      label.fill_(fake_label)\n",
        "      moutput = mDis(fake_mdis_input.detach()).view(-1)\n",
        "\n",
        "      errMDis_fake = criterion(moutput, label)\n",
        "      errMDis_fake.backward()\n",
        "      MDis_fake = moutput.mean().item()\n",
        "\n",
        "      ############# OPTIMIZE MDIS ############\n",
        "      errMDis = errMDis_real + errMDis_fake\n",
        "      optimizerMD.step()\n",
        "\n",
        "      ############ SRDis track ##############\n",
        "      ############# REAL DATA ###############\n",
        "      srDis.zero_grad()\n",
        "      real_srdis_input = srdata[0].to(device)\n",
        "      b_size = real_srdis_input.size(0)\n",
        "      label.fill_(real_label)\n",
        "      sroutput = srDis(real_srdis_input).view(-1)\n",
        "\n",
        "      errSRDis_real = criterion(sroutput, label)\n",
        "      errSRDis_real.backward()\n",
        "      SRDis_real = sroutput.mean().item()\n",
        "\n",
        "      ############# FAKE DATA ###############\n",
        "      fake_srdis_input = srGen(fake_mdis_input)\n",
        "      label.fill_(fake_label)\n",
        "      sroutput = srDis(fake_srdis_input.detach()).view(-1)\n",
        "\n",
        "      errSRDis_fake = criterion(sroutput, label)\n",
        "      errSRDis_fake.backward()\n",
        "      SRDis_fake = sroutput.mean().item()\n",
        "\n",
        "      ############# OPTIMIZE SRDIS ############\n",
        "      errSRDis = errSRDis_real + errSRDis_fake\n",
        "      optimizerSRD.step()\n",
        "\n",
        "    ############ Gen track ###############\n",
        "    mGen.zero_grad()\n",
        "    srGen.zero_grad()\n",
        "\n",
        "    ############ MGen track ###############\n",
        "    if i%skip_steps != 0:\n",
        "      real_mdis_input = mdata[0].to(device)\n",
        "      label = torch.full((b_size,), real_label, dtype=torch.float, device=device)\n",
        "      noise = torch.randn(b_size, 16, 1, 1, device=device)\n",
        "      fake_mdis_input = mGen(noise)\n",
        "      moutput = mDis(fake_mdis_input.detach()).view(-1)\n",
        "\n",
        "    else:\n",
        "      label.fill_(real_label)\n",
        "      moutput = mDis(fake_mdis_input.detach()).view(-1)\n",
        "\n",
        "    errMGen_bce = criterion(moutput, label)\n",
        "    errMGen_bce.backward()\n",
        "\n",
        "    Msl_loss, Mcl_loss,_ = get_style_collapse_loss(real_mdis_input, fake_mdis_input)\n",
        "    Msl_loss *= Msl_loss_weight\n",
        "    Msl_loss.backward()\n",
        "\n",
        "    Mcl_loss *= Mcl_loss_weight\n",
        "    Mcl_loss.backward()\n",
        "\n",
        "    errMGen = errMGen_bce + Msl_loss + Mcl_loss\n",
        "    optimizerMG.step()\n",
        "\n",
        "    ############ SRGen track ###############\n",
        "    if i%skip_steps != 0:\n",
        "      real_srdis_input = srdata[0].to(device)\n",
        "      label.fill_(real_label)\n",
        "      fake_srdis_input = srGen(fake_mdis_input)\n",
        "      sroutput = srDis(fake_srdis_input.detach()).view(-1)\n",
        "\n",
        "    else:\n",
        "      label.fill_(real_label)\n",
        "      sroutput = srDis(fake_srdis_input.detach()).view(-1)\n",
        "\n",
        "    errSRGen_bce = criterion(sroutput, label)\n",
        "    errSRGen_bce.backward()\n",
        "\n",
        "    SRsl_loss, SRcl_loss, SRct_loss = get_style_collapse_loss(real_srdis_input, fake_srdis_input)\n",
        "\n",
        "    SRct_loss.backward()\n",
        "    SRsl_loss *= SRsl_loss_weight\n",
        "    SRsl_loss.backward()\n",
        "\n",
        "    SRcl_loss *= SRcl_loss_weight\n",
        "    SRcl_loss.backward()\n",
        "    errSRGen = errSRGen_bce + SRsl_loss + SRct_loss + SRcl_loss\n",
        "    optimizerSRG.step()\n",
        "\n",
        "    if i%skip_steps == 0:\n",
        "      mGen_loss.append(errMGen.item())\n",
        "      srGen_loss.append(errSRGen.item())\n",
        "      mDis_loss.append(errMDis.item())\n",
        "      srDis_loss.append(errSRDis.item())\n",
        "      mGen_bce.append(errMGen_bce.item())\n",
        "      srGen_bce.append(errSRGen_bce.item())\n",
        "\n",
        "    if iter%500 == 0:\n",
        "      with torch.no_grad():\n",
        "        fakem = mGen(fixed_noise)\n",
        "      mimg_list.append(fakem.detach().cpu())\n",
        "      srimg_list.append(srGen(fakem).detach().cpu())\n",
        "    \n",
        "    iter += 1\n",
        "\n",
        "    if i%60 == 0:\n",
        "      print(\"[{}/{}]\".format(i, len(Mdataloader)))\n",
        "      print(\"MDis_real: {:.4f} | MDis_fake: {:.4f} | SRDis_real: {:.4f} | SRDis_fake: {:.4f}\".format(MDis_real, MDis_fake, SRDis_real, SRDis_fake))\n",
        "      print(\"errMDis: {:.4f} | errMDis_real: {:.4f} | errMDis_fake: {:.4f}\".format(errMDis.item(), errMDis_real.item(), errMDis_fake.item()))\n",
        "      print(\"errSRDis: {:.4f} | errSRDis_real: {:.4f} | errSRDis_fake: {:.4f}\".format(errSRDis.item(), errSRDis_real.item(), errSRDis_fake.item()))\n",
        "      print(\"errMGen: {:.4f} | errMGen_bce: {:.4f} | Msl_loss: {:.4f} | Mcl_loss: {:.4f}\".format(errMGen.item(), errMGen_bce.item(), Msl_loss.item(), Mcl_loss.item()))\n",
        "      print(\"errSRGen: {:.4f} | errSRGen_bce: {:.4f}| SRsl_loss: {:.4f} | SRct_loss: {:.4f} | SRcl_loss: {:.4f}\".format(errSRGen.item(), errSRGen_bce.item(), SRsl_loss.item(), SRct_loss.item(), SRcl_loss.item()))\n",
        "  \n",
        "  if epoch%25 == 0:\n",
        "    print(\"Saving models at epoch: {}\".format(epoch))\n",
        "    torch.save(mGen.state_dict(), '/content/drive/MyDrive/mGen-{}.pt'.format(epoch))\n",
        "    torch.save(mDis.state_dict(), '/content/drive/MyDrive/mDis-{}.pt'.format(epoch))\n",
        "    torch.save(srGen.state_dict(), '/content/drive/MyDrive/srGen-{}.pt'.format(epoch))\n",
        "    torch.save(srDis.state_dict(), '/content/drive/MyDrive/srDis-{}.pt'.format(epoch))\n",
        "\n",
        "print(\"Training Finished\")"
      ],
      "execution_count": null,
      "outputs": [
        {
          "output_type": "stream",
          "text": [
            "\n",
            "\n",
            "\n",
            "\n",
            "\n",
            "\n",
            "\n",
            "\n",
            "  0%|          | 0/50 [00:00<?, ?it/s]\u001b[A\u001b[A\u001b[A\u001b[A\u001b[A\u001b[A\u001b[A\u001b[A"
          ],
          "name": "stderr"
        },
        {
          "output_type": "stream",
          "text": [
            "Starting Training\n",
            "[0/180]\n",
            "MDis_real: 0.9463 | MDis_fake: 0.0531 | SRDis_real: 0.9733 | SRDis_fake: 0.0268\n",
            "errMDis: 0.1097 | errMDis_real: 0.0552 | errMDis_fake: 0.0546\n",
            "errSRDis: 0.0542 | errSRDis_real: 0.0271 | errSRDis_fake: 0.0271\n",
            "errMGen: 4.3314 | errMGen_bce: 2.9413 | Msl_loss: 0.8075 | Mcl_loss: 0.5826\n",
            "errSRGen: 4.2445 | errSRGen_bce: 3.5911| SRsl_loss: 0.0483 | SRct_loss: 0.3065 | SRcl_loss: 0.2986\n",
            "[60/180]\n",
            "MDis_real: 0.9466 | MDis_fake: 0.0531 | SRDis_real: 0.9733 | SRDis_fake: 0.0269\n",
            "errMDis: 0.1094 | errMDis_real: 0.0548 | errMDis_fake: 0.0546\n",
            "errSRDis: 0.0543 | errSRDis_real: 0.0271 | errSRDis_fake: 0.0273\n",
            "errMGen: 4.3396 | errMGen_bce: 2.9373 | Msl_loss: 0.8197 | Mcl_loss: 0.5826\n",
            "errSRGen: 4.2629 | errSRGen_bce: 3.6169| SRsl_loss: 0.0464 | SRct_loss: 0.3010 | SRcl_loss: 0.2986\n",
            "[120/180]\n",
            "MDis_real: 0.9461 | MDis_fake: 0.0530 | SRDis_real: 0.9737 | SRDis_fake: 0.0268\n",
            "errMDis: 0.1098 | errMDis_real: 0.0554 | errMDis_fake: 0.0544\n",
            "errSRDis: 0.0538 | errSRDis_real: 0.0267 | errSRDis_fake: 0.0272\n",
            "errMGen: 4.2936 | errMGen_bce: 2.9366 | Msl_loss: 0.7744 | Mcl_loss: 0.5826\n",
            "errSRGen: 4.2778 | errSRGen_bce: 3.6193| SRsl_loss: 0.0495 | SRct_loss: 0.3104 | SRcl_loss: 0.2986\n",
            "Saving models at epoch: 0\n"
          ],
          "name": "stdout"
        },
        {
          "output_type": "stream",
          "text": [
            "\n",
            "\n",
            "\n",
            "\n",
            "\n",
            "\n",
            "\n",
            "\n",
            "  2%|▏         | 1/50 [01:24<1:09:03, 84.57s/it]\u001b[A\u001b[A\u001b[A\u001b[A\u001b[A\u001b[A\u001b[A\u001b[A"
          ],
          "name": "stderr"
        },
        {
          "output_type": "stream",
          "text": [
            "[0/180]\n",
            "MDis_real: 0.9467 | MDis_fake: 0.0531 | SRDis_real: 0.9737 | SRDis_fake: 0.0268\n",
            "errMDis: 0.1093 | errMDis_real: 0.0548 | errMDis_fake: 0.0545\n",
            "errSRDis: 0.0539 | errSRDis_real: 0.0267 | errSRDis_fake: 0.0272\n",
            "errMGen: 4.3983 | errMGen_bce: 2.9385 | Msl_loss: 0.8772 | Mcl_loss: 0.5826\n",
            "errSRGen: 4.2647 | errSRGen_bce: 3.6190| SRsl_loss: 0.0465 | SRct_loss: 0.3006 | SRcl_loss: 0.2986\n",
            "[60/180]\n",
            "MDis_real: 0.9468 | MDis_fake: 0.0529 | SRDis_real: 0.9737 | SRDis_fake: 0.0268\n",
            "errMDis: 0.1090 | errMDis_real: 0.0546 | errMDis_fake: 0.0544\n",
            "errSRDis: 0.0538 | errSRDis_real: 0.0266 | errSRDis_fake: 0.0272\n",
            "errMGen: 4.3436 | errMGen_bce: 2.9377 | Msl_loss: 0.8233 | Mcl_loss: 0.5826\n",
            "errSRGen: 4.2712 | errSRGen_bce: 3.6180| SRsl_loss: 0.0483 | SRct_loss: 0.3063 | SRcl_loss: 0.2986\n",
            "[120/180]\n",
            "MDis_real: 0.9468 | MDis_fake: 0.0530 | SRDis_real: 0.9738 | SRDis_fake: 0.0269\n",
            "errMDis: 0.1092 | errMDis_real: 0.0547 | errMDis_fake: 0.0545\n",
            "errSRDis: 0.0538 | errSRDis_real: 0.0265 | errSRDis_fake: 0.0273\n",
            "errMGen: 4.3431 | errMGen_bce: 2.9367 | Msl_loss: 0.8237 | Mcl_loss: 0.5826\n",
            "errSRGen: 4.2606 | errSRGen_bce: 3.6155| SRsl_loss: 0.0464 | SRct_loss: 0.3000 | SRcl_loss: 0.2986\n"
          ],
          "name": "stdout"
        },
        {
          "output_type": "stream",
          "text": [
            "\n",
            "\n",
            "\n",
            "\n",
            "\n",
            "\n",
            "\n",
            "\n",
            "  4%|▍         | 2/50 [02:49<1:07:38, 84.55s/it]\u001b[A\u001b[A\u001b[A\u001b[A\u001b[A\u001b[A\u001b[A\u001b[A"
          ],
          "name": "stderr"
        },
        {
          "output_type": "stream",
          "text": [
            "[0/180]\n",
            "MDis_real: 0.9466 | MDis_fake: 0.0530 | SRDis_real: 0.9737 | SRDis_fake: 0.0269\n",
            "errMDis: 0.1093 | errMDis_real: 0.0549 | errMDis_fake: 0.0544\n",
            "errSRDis: 0.0539 | errSRDis_real: 0.0266 | errSRDis_fake: 0.0272\n",
            "errMGen: 4.3557 | errMGen_bce: 2.9364 | Msl_loss: 0.8367 | Mcl_loss: 0.5826\n",
            "errSRGen: 4.2587 | errSRGen_bce: 3.6157| SRsl_loss: 0.0460 | SRct_loss: 0.2984 | SRcl_loss: 0.2986\n",
            "[60/180]\n",
            "MDis_real: 0.9468 | MDis_fake: 0.0532 | SRDis_real: 0.9737 | SRDis_fake: 0.0268\n",
            "errMDis: 0.1093 | errMDis_real: 0.0546 | errMDis_fake: 0.0547\n",
            "errSRDis: 0.0539 | errSRDis_real: 0.0267 | errSRDis_fake: 0.0272\n",
            "errMGen: 4.3036 | errMGen_bce: 2.9309 | Msl_loss: 0.7900 | Mcl_loss: 0.5826\n",
            "errSRGen: 4.2707 | errSRGen_bce: 3.6185| SRsl_loss: 0.0484 | SRct_loss: 0.3052 | SRcl_loss: 0.2986\n",
            "[120/180]\n",
            "MDis_real: 0.9469 | MDis_fake: 0.0532 | SRDis_real: 0.9737 | SRDis_fake: 0.0268\n",
            "errMDis: 0.1092 | errMDis_real: 0.0546 | errMDis_fake: 0.0546\n",
            "errSRDis: 0.0538 | errSRDis_real: 0.0266 | errSRDis_fake: 0.0272\n",
            "errMGen: 4.3788 | errMGen_bce: 2.9369 | Msl_loss: 0.8593 | Mcl_loss: 0.5826\n",
            "errSRGen: 4.2603 | errSRGen_bce: 3.6181| SRsl_loss: 0.0458 | SRct_loss: 0.2979 | SRcl_loss: 0.2986\n"
          ],
          "name": "stdout"
        },
        {
          "output_type": "stream",
          "text": [
            "\n",
            "\n",
            "\n",
            "\n",
            "\n",
            "\n",
            "\n",
            "\n",
            "  6%|▌         | 3/50 [04:13<1:06:07, 84.42s/it]\u001b[A\u001b[A\u001b[A\u001b[A\u001b[A\u001b[A\u001b[A\u001b[A"
          ],
          "name": "stderr"
        },
        {
          "output_type": "stream",
          "text": [
            "[0/180]\n",
            "MDis_real: 0.9470 | MDis_fake: 0.0528 | SRDis_real: 0.9738 | SRDis_fake: 0.0268\n",
            "errMDis: 0.1088 | errMDis_real: 0.0545 | errMDis_fake: 0.0543\n",
            "errSRDis: 0.0538 | errSRDis_real: 0.0266 | errSRDis_fake: 0.0272\n",
            "errMGen: 4.2929 | errMGen_bce: 2.9412 | Msl_loss: 0.7690 | Mcl_loss: 0.5826\n",
            "errSRGen: 4.2686 | errSRGen_bce: 3.6185| SRsl_loss: 0.0475 | SRct_loss: 0.3040 | SRcl_loss: 0.2986\n",
            "[60/180]\n",
            "MDis_real: 0.9469 | MDis_fake: 0.0529 | SRDis_real: 0.9737 | SRDis_fake: 0.0269\n",
            "errMDis: 0.1089 | errMDis_real: 0.0546 | errMDis_fake: 0.0543\n",
            "errSRDis: 0.0538 | errSRDis_real: 0.0266 | errSRDis_fake: 0.0272\n",
            "errMGen: 4.3680 | errMGen_bce: 2.9393 | Msl_loss: 0.8461 | Mcl_loss: 0.5826\n",
            "errSRGen: 4.2653 | errSRGen_bce: 3.6172| SRsl_loss: 0.0470 | SRct_loss: 0.3025 | SRcl_loss: 0.2986\n",
            "[120/180]\n",
            "MDis_real: 0.9469 | MDis_fake: 0.0529 | SRDis_real: 0.9737 | SRDis_fake: 0.0268\n",
            "errMDis: 0.1089 | errMDis_real: 0.0545 | errMDis_fake: 0.0544\n",
            "errSRDis: 0.0539 | errSRDis_real: 0.0267 | errSRDis_fake: 0.0272\n",
            "errMGen: 4.2983 | errMGen_bce: 2.9383 | Msl_loss: 0.7774 | Mcl_loss: 0.5826\n",
            "errSRGen: 4.2650 | errSRGen_bce: 3.6188| SRsl_loss: 0.0467 | SRct_loss: 0.3009 | SRcl_loss: 0.2986\n"
          ],
          "name": "stdout"
        },
        {
          "output_type": "stream",
          "text": [
            "\n",
            "\n",
            "\n",
            "\n",
            "\n",
            "\n",
            "\n",
            "\n",
            "  8%|▊         | 4/50 [05:37<1:04:36, 84.27s/it]\u001b[A\u001b[A\u001b[A\u001b[A\u001b[A\u001b[A\u001b[A\u001b[A"
          ],
          "name": "stderr"
        },
        {
          "output_type": "stream",
          "text": [
            "[0/180]\n",
            "MDis_real: 0.9470 | MDis_fake: 0.0530 | SRDis_real: 0.9738 | SRDis_fake: 0.0269\n",
            "errMDis: 0.1089 | errMDis_real: 0.0545 | errMDis_fake: 0.0544\n",
            "errSRDis: 0.0538 | errSRDis_real: 0.0266 | errSRDis_fake: 0.0273\n",
            "errMGen: 4.2587 | errMGen_bce: 2.9383 | Msl_loss: 0.7377 | Mcl_loss: 0.5826\n",
            "errSRGen: 4.2642 | errSRGen_bce: 3.6153| SRsl_loss: 0.0471 | SRct_loss: 0.3032 | SRcl_loss: 0.2986\n",
            "[60/180]\n",
            "MDis_real: 0.9470 | MDis_fake: 0.0529 | SRDis_real: 0.9737 | SRDis_fake: 0.0269\n",
            "errMDis: 0.1088 | errMDis_real: 0.0545 | errMDis_fake: 0.0544\n",
            "errSRDis: 0.0538 | errSRDis_real: 0.0266 | errSRDis_fake: 0.0272\n",
            "errMGen: 4.3208 | errMGen_bce: 2.9387 | Msl_loss: 0.7994 | Mcl_loss: 0.5826\n",
            "errSRGen: 4.2600 | errSRGen_bce: 3.6181| SRsl_loss: 0.0456 | SRct_loss: 0.2978 | SRcl_loss: 0.2986\n",
            "[120/180]\n",
            "MDis_real: 0.9470 | MDis_fake: 0.0529 | SRDis_real: 0.9738 | SRDis_fake: 0.0268\n",
            "errMDis: 0.1088 | errMDis_real: 0.0544 | errMDis_fake: 0.0543\n",
            "errSRDis: 0.0537 | errSRDis_real: 0.0266 | errSRDis_fake: 0.0272\n",
            "errMGen: 4.2538 | errMGen_bce: 2.9398 | Msl_loss: 0.7314 | Mcl_loss: 0.5826\n",
            "errSRGen: 4.2678 | errSRGen_bce: 3.6181| SRsl_loss: 0.0478 | SRct_loss: 0.3033 | SRcl_loss: 0.2986\n"
          ],
          "name": "stdout"
        },
        {
          "output_type": "stream",
          "text": [
            "\n",
            "\n",
            "\n",
            "\n",
            "\n",
            "\n",
            "\n",
            "\n",
            " 10%|█         | 5/50 [07:01<1:03:10, 84.24s/it]\u001b[A\u001b[A\u001b[A\u001b[A\u001b[A\u001b[A\u001b[A\u001b[A"
          ],
          "name": "stderr"
        },
        {
          "output_type": "stream",
          "text": [
            "[0/180]\n",
            "MDis_real: 0.9470 | MDis_fake: 0.0529 | SRDis_real: 0.9738 | SRDis_fake: 0.0268\n",
            "errMDis: 0.1088 | errMDis_real: 0.0545 | errMDis_fake: 0.0543\n",
            "errSRDis: 0.0538 | errSRDis_real: 0.0266 | errSRDis_fake: 0.0272\n",
            "errMGen: 4.3692 | errMGen_bce: 2.9390 | Msl_loss: 0.8476 | Mcl_loss: 0.5826\n",
            "errSRGen: 4.2793 | errSRGen_bce: 3.6195| SRsl_loss: 0.0499 | SRct_loss: 0.3114 | SRcl_loss: 0.2986\n",
            "[60/180]\n",
            "MDis_real: 0.9470 | MDis_fake: 0.0530 | SRDis_real: 0.9738 | SRDis_fake: 0.0268\n",
            "errMDis: 0.1089 | errMDis_real: 0.0545 | errMDis_fake: 0.0544\n",
            "errSRDis: 0.0537 | errSRDis_real: 0.0266 | errSRDis_fake: 0.0272\n",
            "errMGen: 4.3276 | errMGen_bce: 2.9382 | Msl_loss: 0.8068 | Mcl_loss: 0.5826\n",
            "errSRGen: 4.2559 | errSRGen_bce: 3.6187| SRsl_loss: 0.0448 | SRct_loss: 0.2938 | SRcl_loss: 0.2986\n",
            "[120/180]\n",
            "MDis_real: 0.9470 | MDis_fake: 0.0529 | SRDis_real: 0.9738 | SRDis_fake: 0.0269\n",
            "errMDis: 0.1088 | errMDis_real: 0.0545 | errMDis_fake: 0.0544\n",
            "errSRDis: 0.0538 | errSRDis_real: 0.0266 | errSRDis_fake: 0.0272\n",
            "errMGen: 4.3010 | errMGen_bce: 2.9393 | Msl_loss: 0.7790 | Mcl_loss: 0.5826\n",
            "errSRGen: 4.2685 | errSRGen_bce: 3.6165| SRsl_loss: 0.0479 | SRct_loss: 0.3055 | SRcl_loss: 0.2986\n"
          ],
          "name": "stdout"
        },
        {
          "output_type": "stream",
          "text": [
            "\n",
            "\n",
            "\n",
            "\n",
            "\n",
            "\n",
            "\n",
            "\n",
            " 12%|█▏        | 6/50 [08:25<1:01:41, 84.12s/it]\u001b[A\u001b[A\u001b[A\u001b[A\u001b[A\u001b[A\u001b[A\u001b[A"
          ],
          "name": "stderr"
        },
        {
          "output_type": "stream",
          "text": [
            "[0/180]\n",
            "MDis_real: 0.9470 | MDis_fake: 0.0529 | SRDis_real: 0.9738 | SRDis_fake: 0.0268\n",
            "errMDis: 0.1088 | errMDis_real: 0.0544 | errMDis_fake: 0.0543\n",
            "errSRDis: 0.0537 | errSRDis_real: 0.0266 | errSRDis_fake: 0.0271\n",
            "errMGen: 4.3245 | errMGen_bce: 2.9400 | Msl_loss: 0.8019 | Mcl_loss: 0.5826\n",
            "errSRGen: 4.2723 | errSRGen_bce: 3.6193| SRsl_loss: 0.0479 | SRct_loss: 0.3065 | SRcl_loss: 0.2986\n",
            "[60/180]\n",
            "MDis_real: 0.9470 | MDis_fake: 0.0529 | SRDis_real: 0.9738 | SRDis_fake: 0.0269\n",
            "errMDis: 0.1088 | errMDis_real: 0.0544 | errMDis_fake: 0.0544\n",
            "errSRDis: 0.0538 | errSRDis_real: 0.0265 | errSRDis_fake: 0.0272\n",
            "errMGen: 4.2633 | errMGen_bce: 2.9387 | Msl_loss: 0.7419 | Mcl_loss: 0.5826\n",
            "errSRGen: 4.2569 | errSRGen_bce: 3.6161| SRsl_loss: 0.0453 | SRct_loss: 0.2969 | SRcl_loss: 0.2986\n",
            "[120/180]\n",
            "MDis_real: 0.9470 | MDis_fake: 0.0528 | SRDis_real: 0.9738 | SRDis_fake: 0.0269\n",
            "errMDis: 0.1087 | errMDis_real: 0.0544 | errMDis_fake: 0.0543\n",
            "errSRDis: 0.0538 | errSRDis_real: 0.0265 | errSRDis_fake: 0.0272\n",
            "errMGen: 4.3596 | errMGen_bce: 2.9413 | Msl_loss: 0.8357 | Mcl_loss: 0.5826\n",
            "errSRGen: 4.2772 | errSRGen_bce: 3.6191| SRsl_loss: 0.0494 | SRct_loss: 0.3101 | SRcl_loss: 0.2986\n"
          ],
          "name": "stdout"
        },
        {
          "output_type": "stream",
          "text": [
            "\n",
            "\n",
            "\n",
            "\n",
            "\n",
            "\n",
            "\n",
            "\n",
            " 14%|█▍        | 7/50 [09:48<1:00:09, 83.95s/it]\u001b[A\u001b[A\u001b[A\u001b[A\u001b[A\u001b[A\u001b[A\u001b[A"
          ],
          "name": "stderr"
        },
        {
          "output_type": "stream",
          "text": [
            "[0/180]\n",
            "MDis_real: 0.9470 | MDis_fake: 0.0528 | SRDis_real: 0.9738 | SRDis_fake: 0.0268\n",
            "errMDis: 0.1087 | errMDis_real: 0.0545 | errMDis_fake: 0.0543\n",
            "errSRDis: 0.0537 | errSRDis_real: 0.0266 | errSRDis_fake: 0.0272\n",
            "errMGen: 4.3303 | errMGen_bce: 2.9397 | Msl_loss: 0.8079 | Mcl_loss: 0.5826\n",
            "errSRGen: 4.2734 | errSRGen_bce: 3.6182| SRsl_loss: 0.0487 | SRct_loss: 0.3079 | SRcl_loss: 0.2986\n",
            "[60/180]\n",
            "MDis_real: 0.9470 | MDis_fake: 0.0529 | SRDis_real: 0.9738 | SRDis_fake: 0.0268\n",
            "errMDis: 0.1088 | errMDis_real: 0.0544 | errMDis_fake: 0.0543\n",
            "errSRDis: 0.0537 | errSRDis_real: 0.0265 | errSRDis_fake: 0.0272\n",
            "errMGen: 4.3178 | errMGen_bce: 2.9407 | Msl_loss: 0.7944 | Mcl_loss: 0.5826\n",
            "errSRGen: 4.2636 | errSRGen_bce: 3.6185| SRsl_loss: 0.0465 | SRct_loss: 0.3000 | SRcl_loss: 0.2986\n",
            "[120/180]\n",
            "MDis_real: 0.9470 | MDis_fake: 0.0528 | SRDis_real: 0.9738 | SRDis_fake: 0.0268\n",
            "errMDis: 0.1087 | errMDis_real: 0.0544 | errMDis_fake: 0.0543\n",
            "errSRDis: 0.0537 | errSRDis_real: 0.0265 | errSRDis_fake: 0.0272\n",
            "errMGen: 4.3557 | errMGen_bce: 2.9402 | Msl_loss: 0.8328 | Mcl_loss: 0.5826\n",
            "errSRGen: 4.2647 | errSRGen_bce: 3.6180| SRsl_loss: 0.0467 | SRct_loss: 0.3014 | SRcl_loss: 0.2986\n"
          ],
          "name": "stdout"
        },
        {
          "output_type": "stream",
          "text": [
            "\n",
            "\n",
            "\n",
            "\n",
            "\n",
            "\n",
            "\n",
            "\n",
            " 16%|█▌        | 8/50 [11:12<58:45, 83.95s/it]  \u001b[A\u001b[A\u001b[A\u001b[A\u001b[A\u001b[A\u001b[A\u001b[A"
          ],
          "name": "stderr"
        },
        {
          "output_type": "stream",
          "text": [
            "[0/180]\n",
            "MDis_real: 0.9470 | MDis_fake: 0.0529 | SRDis_real: 0.9738 | SRDis_fake: 0.0268\n",
            "errMDis: 0.1088 | errMDis_real: 0.0545 | errMDis_fake: 0.0543\n",
            "errSRDis: 0.0537 | errSRDis_real: 0.0265 | errSRDis_fake: 0.0272\n",
            "errMGen: 4.3325 | errMGen_bce: 2.9403 | Msl_loss: 0.8096 | Mcl_loss: 0.5826\n",
            "errSRGen: 4.2754 | errSRGen_bce: 3.6184| SRsl_loss: 0.0494 | SRct_loss: 0.3089 | SRcl_loss: 0.2986\n",
            "[60/180]\n",
            "MDis_real: 0.9470 | MDis_fake: 0.0528 | SRDis_real: 0.9738 | SRDis_fake: 0.0268\n",
            "errMDis: 0.1087 | errMDis_real: 0.0544 | errMDis_fake: 0.0543\n",
            "errSRDis: 0.0537 | errSRDis_real: 0.0265 | errSRDis_fake: 0.0272\n",
            "errMGen: 4.3472 | errMGen_bce: 2.9397 | Msl_loss: 0.8249 | Mcl_loss: 0.5826\n",
            "errSRGen: 4.2731 | errSRGen_bce: 3.6200| SRsl_loss: 0.0483 | SRct_loss: 0.3063 | SRcl_loss: 0.2986\n",
            "[120/180]\n",
            "MDis_real: 0.9470 | MDis_fake: 0.0528 | SRDis_real: 0.9739 | SRDis_fake: 0.0268\n",
            "errMDis: 0.1087 | errMDis_real: 0.0545 | errMDis_fake: 0.0543\n",
            "errSRDis: 0.0536 | errSRDis_real: 0.0265 | errSRDis_fake: 0.0271\n",
            "errMGen: 4.3499 | errMGen_bce: 2.9418 | Msl_loss: 0.8255 | Mcl_loss: 0.5826\n",
            "errSRGen: 4.2723 | errSRGen_bce: 3.6209| SRsl_loss: 0.0478 | SRct_loss: 0.3050 | SRcl_loss: 0.2986\n"
          ],
          "name": "stdout"
        },
        {
          "output_type": "stream",
          "text": [
            "\n",
            "\n",
            "\n",
            "\n",
            "\n",
            "\n",
            "\n",
            "\n",
            " 18%|█▊        | 9/50 [12:36<57:21, 83.95s/it]\u001b[A\u001b[A\u001b[A\u001b[A\u001b[A\u001b[A\u001b[A\u001b[A"
          ],
          "name": "stderr"
        },
        {
          "output_type": "stream",
          "text": [
            "[0/180]\n",
            "MDis_real: 0.9470 | MDis_fake: 0.0528 | SRDis_real: 0.9738 | SRDis_fake: 0.0268\n",
            "errMDis: 0.1087 | errMDis_real: 0.0544 | errMDis_fake: 0.0543\n",
            "errSRDis: 0.0537 | errSRDis_real: 0.0265 | errSRDis_fake: 0.0271\n",
            "errMGen: 4.4054 | errMGen_bce: 2.9397 | Msl_loss: 0.8830 | Mcl_loss: 0.5826\n",
            "errSRGen: 4.2568 | errSRGen_bce: 3.6183| SRsl_loss: 0.0452 | SRct_loss: 0.2947 | SRcl_loss: 0.2986\n",
            "[60/180]\n",
            "MDis_real: 0.9471 | MDis_fake: 0.0528 | SRDis_real: 0.9739 | SRDis_fake: 0.0268\n",
            "errMDis: 0.1086 | errMDis_real: 0.0544 | errMDis_fake: 0.0543\n",
            "errSRDis: 0.0536 | errSRDis_real: 0.0265 | errSRDis_fake: 0.0272\n",
            "errMGen: 4.3103 | errMGen_bce: 2.9411 | Msl_loss: 0.7865 | Mcl_loss: 0.5826\n",
            "errSRGen: 4.2599 | errSRGen_bce: 3.6202| SRsl_loss: 0.0450 | SRct_loss: 0.2962 | SRcl_loss: 0.2986\n",
            "[120/180]\n",
            "MDis_real: 0.9471 | MDis_fake: 0.0528 | SRDis_real: 0.9739 | SRDis_fake: 0.0268\n",
            "errMDis: 0.1087 | errMDis_real: 0.0544 | errMDis_fake: 0.0543\n",
            "errSRDis: 0.0536 | errSRDis_real: 0.0264 | errSRDis_fake: 0.0271\n",
            "errMGen: 4.3724 | errMGen_bce: 2.9409 | Msl_loss: 0.8489 | Mcl_loss: 0.5826\n",
            "errSRGen: 4.2541 | errSRGen_bce: 3.6184| SRsl_loss: 0.0444 | SRct_loss: 0.2927 | SRcl_loss: 0.2986\n"
          ],
          "name": "stdout"
        },
        {
          "output_type": "stream",
          "text": [
            "\n",
            "\n",
            "\n",
            "\n",
            "\n",
            "\n",
            "\n",
            "\n",
            " 20%|██        | 10/50 [14:00<55:59, 83.99s/it]\u001b[A\u001b[A\u001b[A\u001b[A\u001b[A\u001b[A\u001b[A\u001b[A"
          ],
          "name": "stderr"
        },
        {
          "output_type": "stream",
          "text": [
            "[0/180]\n",
            "MDis_real: 0.9471 | MDis_fake: 0.0528 | SRDis_real: 0.9739 | SRDis_fake: 0.0267\n",
            "errMDis: 0.1085 | errMDis_real: 0.0543 | errMDis_fake: 0.0542\n",
            "errSRDis: 0.0536 | errSRDis_real: 0.0265 | errSRDis_fake: 0.0271\n",
            "errMGen: 4.2878 | errMGen_bce: 2.9421 | Msl_loss: 0.7631 | Mcl_loss: 0.5826\n",
            "errSRGen: 4.2829 | errSRGen_bce: 3.6209| SRsl_loss: 0.0502 | SRct_loss: 0.3132 | SRcl_loss: 0.2986\n",
            "[60/180]\n",
            "MDis_real: 0.9471 | MDis_fake: 0.0528 | SRDis_real: 0.9739 | SRDis_fake: 0.0268\n",
            "errMDis: 0.1086 | errMDis_real: 0.0544 | errMDis_fake: 0.0543\n",
            "errSRDis: 0.0536 | errSRDis_real: 0.0265 | errSRDis_fake: 0.0272\n",
            "errMGen: 4.3250 | errMGen_bce: 2.9405 | Msl_loss: 0.8019 | Mcl_loss: 0.5826\n",
            "errSRGen: 4.2592 | errSRGen_bce: 3.6199| SRsl_loss: 0.0451 | SRct_loss: 0.2956 | SRcl_loss: 0.2986\n",
            "[120/180]\n",
            "MDis_real: 0.9471 | MDis_fake: 0.0528 | SRDis_real: 0.9738 | SRDis_fake: 0.0268\n",
            "errMDis: 0.1085 | errMDis_real: 0.0543 | errMDis_fake: 0.0542\n",
            "errSRDis: 0.0537 | errSRDis_real: 0.0266 | errSRDis_fake: 0.0271\n",
            "errMGen: 4.2682 | errMGen_bce: 2.9417 | Msl_loss: 0.7439 | Mcl_loss: 0.5826\n",
            "errSRGen: 4.2770 | errSRGen_bce: 3.6205| SRsl_loss: 0.0492 | SRct_loss: 0.3086 | SRcl_loss: 0.2986\n"
          ],
          "name": "stdout"
        },
        {
          "output_type": "stream",
          "text": [
            "\n",
            "\n",
            "\n",
            "\n",
            "\n",
            "\n",
            "\n",
            "\n",
            " 22%|██▏       | 11/50 [15:24<54:36, 84.00s/it]\u001b[A\u001b[A\u001b[A\u001b[A\u001b[A\u001b[A\u001b[A\u001b[A"
          ],
          "name": "stderr"
        },
        {
          "output_type": "stream",
          "text": [
            "[0/180]\n",
            "MDis_real: 0.9472 | MDis_fake: 0.0528 | SRDis_real: 0.9740 | SRDis_fake: 0.0268\n",
            "errMDis: 0.1085 | errMDis_real: 0.0543 | errMDis_fake: 0.0542\n",
            "errSRDis: 0.0536 | errSRDis_real: 0.0264 | errSRDis_fake: 0.0272\n",
            "errMGen: 4.2943 | errMGen_bce: 2.9410 | Msl_loss: 0.7707 | Mcl_loss: 0.5826\n",
            "errSRGen: 4.2769 | errSRGen_bce: 3.6179| SRsl_loss: 0.0498 | SRct_loss: 0.3106 | SRcl_loss: 0.2986\n",
            "[60/180]\n",
            "MDis_real: 0.9471 | MDis_fake: 0.0528 | SRDis_real: 0.9740 | SRDis_fake: 0.0268\n",
            "errMDis: 0.1085 | errMDis_real: 0.0543 | errMDis_fake: 0.0542\n",
            "errSRDis: 0.0535 | errSRDis_real: 0.0264 | errSRDis_fake: 0.0271\n",
            "errMGen: 4.2745 | errMGen_bce: 2.9419 | Msl_loss: 0.7500 | Mcl_loss: 0.5826\n",
            "errSRGen: 4.2732 | errSRGen_bce: 3.6211| SRsl_loss: 0.0479 | SRct_loss: 0.3055 | SRcl_loss: 0.2986\n",
            "[120/180]\n",
            "MDis_real: 0.9472 | MDis_fake: 0.0528 | SRDis_real: 0.9739 | SRDis_fake: 0.0268\n",
            "errMDis: 0.1085 | errMDis_real: 0.0543 | errMDis_fake: 0.0542\n",
            "errSRDis: 0.0536 | errSRDis_real: 0.0264 | errSRDis_fake: 0.0271\n",
            "errMGen: 4.3592 | errMGen_bce: 2.9409 | Msl_loss: 0.8356 | Mcl_loss: 0.5826\n",
            "errSRGen: 4.2648 | errSRGen_bce: 3.6196| SRsl_loss: 0.0463 | SRct_loss: 0.3003 | SRcl_loss: 0.2986\n"
          ],
          "name": "stdout"
        },
        {
          "output_type": "stream",
          "text": [
            "\n",
            "\n",
            "\n",
            "\n",
            "\n",
            "\n",
            "\n",
            "\n",
            " 24%|██▍       | 12/50 [16:48<53:14, 84.08s/it]\u001b[A\u001b[A\u001b[A\u001b[A\u001b[A\u001b[A\u001b[A\u001b[A"
          ],
          "name": "stderr"
        },
        {
          "output_type": "stream",
          "text": [
            "[0/180]\n",
            "MDis_real: 0.9472 | MDis_fake: 0.0527 | SRDis_real: 0.9739 | SRDis_fake: 0.0267\n",
            "errMDis: 0.1084 | errMDis_real: 0.0542 | errMDis_fake: 0.0542\n",
            "errSRDis: 0.0536 | errSRDis_real: 0.0265 | errSRDis_fake: 0.0271\n",
            "errMGen: 4.3542 | errMGen_bce: 2.9418 | Msl_loss: 0.8298 | Mcl_loss: 0.5826\n",
            "errSRGen: 4.2640 | errSRGen_bce: 3.6225| SRsl_loss: 0.0455 | SRct_loss: 0.2974 | SRcl_loss: 0.2986\n",
            "[60/180]\n",
            "MDis_real: 0.9472 | MDis_fake: 0.0528 | SRDis_real: 0.9739 | SRDis_fake: 0.0268\n",
            "errMDis: 0.1084 | errMDis_real: 0.0542 | errMDis_fake: 0.0542\n",
            "errSRDis: 0.0536 | errSRDis_real: 0.0265 | errSRDis_fake: 0.0271\n",
            "errMGen: 4.3626 | errMGen_bce: 2.9416 | Msl_loss: 0.8384 | Mcl_loss: 0.5826\n",
            "errSRGen: 4.2661 | errSRGen_bce: 3.6211| SRsl_loss: 0.0463 | SRct_loss: 0.3002 | SRcl_loss: 0.2986\n",
            "[120/180]\n",
            "MDis_real: 0.9472 | MDis_fake: 0.0528 | SRDis_real: 0.9739 | SRDis_fake: 0.0268\n",
            "errMDis: 0.1085 | errMDis_real: 0.0542 | errMDis_fake: 0.0543\n",
            "errSRDis: 0.0536 | errSRDis_real: 0.0265 | errSRDis_fake: 0.0271\n",
            "errMGen: 4.3654 | errMGen_bce: 2.9407 | Msl_loss: 0.8421 | Mcl_loss: 0.5826\n",
            "errSRGen: 4.2750 | errSRGen_bce: 3.6207| SRsl_loss: 0.0485 | SRct_loss: 0.3072 | SRcl_loss: 0.2986\n"
          ],
          "name": "stdout"
        },
        {
          "output_type": "stream",
          "text": [
            "\n",
            "\n",
            "\n",
            "\n",
            "\n",
            "\n",
            "\n",
            "\n",
            " 26%|██▌       | 13/50 [18:12<51:45, 83.92s/it]\u001b[A\u001b[A\u001b[A\u001b[A\u001b[A\u001b[A\u001b[A\u001b[A"
          ],
          "name": "stderr"
        },
        {
          "output_type": "stream",
          "text": [
            "[0/180]\n",
            "MDis_real: 0.9472 | MDis_fake: 0.0527 | SRDis_real: 0.9738 | SRDis_fake: 0.0267\n",
            "errMDis: 0.1084 | errMDis_real: 0.0542 | errMDis_fake: 0.0542\n",
            "errSRDis: 0.0536 | errSRDis_real: 0.0265 | errSRDis_fake: 0.0271\n",
            "errMGen: 4.2791 | errMGen_bce: 2.9422 | Msl_loss: 0.7543 | Mcl_loss: 0.5826\n",
            "errSRGen: 4.2801 | errSRGen_bce: 3.6216| SRsl_loss: 0.0494 | SRct_loss: 0.3105 | SRcl_loss: 0.2986\n",
            "[60/180]\n",
            "MDis_real: 0.9472 | MDis_fake: 0.0528 | SRDis_real: 0.9739 | SRDis_fake: 0.0267\n",
            "errMDis: 0.1085 | errMDis_real: 0.0542 | errMDis_fake: 0.0543\n",
            "errSRDis: 0.0536 | errSRDis_real: 0.0265 | errSRDis_fake: 0.0271\n",
            "errMGen: 4.3428 | errMGen_bce: 2.9408 | Msl_loss: 0.8193 | Mcl_loss: 0.5826\n",
            "errSRGen: 4.2645 | errSRGen_bce: 3.6215| SRsl_loss: 0.0460 | SRct_loss: 0.2984 | SRcl_loss: 0.2986\n",
            "[120/180]\n",
            "MDis_real: 0.9473 | MDis_fake: 0.0527 | SRDis_real: 0.9739 | SRDis_fake: 0.0268\n",
            "errMDis: 0.1083 | errMDis_real: 0.0541 | errMDis_fake: 0.0542\n",
            "errSRDis: 0.0536 | errSRDis_real: 0.0265 | errSRDis_fake: 0.0272\n",
            "errMGen: 4.3795 | errMGen_bce: 2.9425 | Msl_loss: 0.8544 | Mcl_loss: 0.5826\n",
            "errSRGen: 4.2683 | errSRGen_bce: 3.6211| SRsl_loss: 0.0468 | SRct_loss: 0.3018 | SRcl_loss: 0.2986\n"
          ],
          "name": "stdout"
        },
        {
          "output_type": "stream",
          "text": [
            "\n",
            "\n",
            "\n",
            "\n",
            "\n",
            "\n",
            "\n",
            "\n",
            " 28%|██▊       | 14/50 [19:36<50:20, 83.92s/it]\u001b[A\u001b[A\u001b[A\u001b[A\u001b[A\u001b[A\u001b[A\u001b[A"
          ],
          "name": "stderr"
        },
        {
          "output_type": "stream",
          "text": [
            "[0/180]\n",
            "MDis_real: 0.9473 | MDis_fake: 0.0528 | SRDis_real: 0.9739 | SRDis_fake: 0.0268\n",
            "errMDis: 0.1084 | errMDis_real: 0.0542 | errMDis_fake: 0.0542\n",
            "errSRDis: 0.0536 | errSRDis_real: 0.0265 | errSRDis_fake: 0.0271\n",
            "errMGen: 4.2541 | errMGen_bce: 2.9420 | Msl_loss: 0.7295 | Mcl_loss: 0.5826\n",
            "errSRGen: 4.2499 | errSRGen_bce: 3.6196| SRsl_loss: 0.0433 | SRct_loss: 0.2883 | SRcl_loss: 0.2986\n",
            "[60/180]\n",
            "MDis_real: 0.9472 | MDis_fake: 0.0528 | SRDis_real: 0.9739 | SRDis_fake: 0.0267\n",
            "errMDis: 0.1084 | errMDis_real: 0.0542 | errMDis_fake: 0.0542\n",
            "errSRDis: 0.0536 | errSRDis_real: 0.0265 | errSRDis_fake: 0.0271\n",
            "errMGen: 4.3242 | errMGen_bce: 2.9418 | Msl_loss: 0.7997 | Mcl_loss: 0.5826\n",
            "errSRGen: 4.2631 | errSRGen_bce: 3.6214| SRsl_loss: 0.0457 | SRct_loss: 0.2975 | SRcl_loss: 0.2986\n",
            "[120/180]\n",
            "MDis_real: 0.9472 | MDis_fake: 0.0528 | SRDis_real: 0.9739 | SRDis_fake: 0.0268\n",
            "errMDis: 0.1085 | errMDis_real: 0.0543 | errMDis_fake: 0.0542\n",
            "errSRDis: 0.0536 | errSRDis_real: 0.0265 | errSRDis_fake: 0.0271\n",
            "errMGen: 4.2814 | errMGen_bce: 2.9421 | Msl_loss: 0.7566 | Mcl_loss: 0.5826\n",
            "errSRGen: 4.2786 | errSRGen_bce: 3.6189| SRsl_loss: 0.0496 | SRct_loss: 0.3115 | SRcl_loss: 0.2986\n"
          ],
          "name": "stdout"
        },
        {
          "output_type": "stream",
          "text": [
            "\n",
            "\n",
            "\n",
            "\n",
            "\n",
            "\n",
            "\n",
            "\n",
            " 30%|███       | 15/50 [21:00<48:55, 83.88s/it]\u001b[A\u001b[A\u001b[A\u001b[A\u001b[A\u001b[A\u001b[A\u001b[A"
          ],
          "name": "stderr"
        },
        {
          "output_type": "stream",
          "text": [
            "[0/180]\n",
            "MDis_real: 0.9472 | MDis_fake: 0.0527 | SRDis_real: 0.9738 | SRDis_fake: 0.0268\n",
            "errMDis: 0.1084 | errMDis_real: 0.0542 | errMDis_fake: 0.0542\n",
            "errSRDis: 0.0536 | errSRDis_real: 0.0265 | errSRDis_fake: 0.0271\n",
            "errMGen: 4.3820 | errMGen_bce: 2.9424 | Msl_loss: 0.8569 | Mcl_loss: 0.5826\n",
            "errSRGen: 4.2796 | errSRGen_bce: 3.6217| SRsl_loss: 0.0496 | SRct_loss: 0.3097 | SRcl_loss: 0.2986\n",
            "[60/180]\n",
            "MDis_real: 0.9472 | MDis_fake: 0.0528 | SRDis_real: 0.9739 | SRDis_fake: 0.0268\n",
            "errMDis: 0.1085 | errMDis_real: 0.0542 | errMDis_fake: 0.0542\n",
            "errSRDis: 0.0537 | errSRDis_real: 0.0265 | errSRDis_fake: 0.0272\n",
            "errMGen: 4.3365 | errMGen_bce: 2.9415 | Msl_loss: 0.8124 | Mcl_loss: 0.5826\n",
            "errSRGen: 4.2629 | errSRGen_bce: 3.6207| SRsl_loss: 0.0459 | SRct_loss: 0.2977 | SRcl_loss: 0.2986\n",
            "[120/180]\n",
            "MDis_real: 0.9473 | MDis_fake: 0.0527 | SRDis_real: 0.9737 | SRDis_fake: 0.0268\n",
            "errMDis: 0.1083 | errMDis_real: 0.0542 | errMDis_fake: 0.0542\n",
            "errSRDis: 0.0538 | errSRDis_real: 0.0267 | errSRDis_fake: 0.0271\n",
            "errMGen: 4.2358 | errMGen_bce: 2.9425 | Msl_loss: 0.7106 | Mcl_loss: 0.5826\n",
            "errSRGen: 4.2560 | errSRGen_bce: 3.6183| SRsl_loss: 0.0446 | SRct_loss: 0.2945 | SRcl_loss: 0.2986\n"
          ],
          "name": "stdout"
        },
        {
          "output_type": "stream",
          "text": [
            "\n",
            "\n",
            "\n",
            "\n",
            "\n",
            "\n",
            "\n",
            "\n",
            " 32%|███▏      | 16/50 [22:23<47:30, 83.83s/it]\u001b[A\u001b[A\u001b[A\u001b[A\u001b[A\u001b[A\u001b[A\u001b[A"
          ],
          "name": "stderr"
        },
        {
          "output_type": "stream",
          "text": [
            "[0/180]\n",
            "MDis_real: 0.9473 | MDis_fake: 0.0528 | SRDis_real: 0.9738 | SRDis_fake: 0.0266\n",
            "errMDis: 0.1084 | errMDis_real: 0.0542 | errMDis_fake: 0.0542\n",
            "errSRDis: 0.0535 | errSRDis_real: 0.0265 | errSRDis_fake: 0.0270\n",
            "errMGen: 4.3303 | errMGen_bce: 2.9420 | Msl_loss: 0.8056 | Mcl_loss: 0.5826\n",
            "errSRGen: 4.2852 | errSRGen_bce: 3.6235| SRsl_loss: 0.0504 | SRct_loss: 0.3128 | SRcl_loss: 0.2986\n",
            "[60/180]\n",
            "MDis_real: 0.9472 | MDis_fake: 0.0528 | SRDis_real: 0.9739 | SRDis_fake: 0.0268\n",
            "errMDis: 0.1084 | errMDis_real: 0.0542 | errMDis_fake: 0.0542\n",
            "errSRDis: 0.0536 | errSRDis_real: 0.0264 | errSRDis_fake: 0.0272\n",
            "errMGen: 4.4240 | errMGen_bce: 2.9419 | Msl_loss: 0.8995 | Mcl_loss: 0.5826\n",
            "errSRGen: 4.2802 | errSRGen_bce: 3.6183| SRsl_loss: 0.0504 | SRct_loss: 0.3129 | SRcl_loss: 0.2986\n",
            "[120/180]\n",
            "MDis_real: 0.9472 | MDis_fake: 0.0527 | SRDis_real: 0.9727 | SRDis_fake: 0.0266\n",
            "errMDis: 0.1084 | errMDis_real: 0.0542 | errMDis_fake: 0.0542\n",
            "errSRDis: 0.0547 | errSRDis_real: 0.0277 | errSRDis_fake: 0.0270\n",
            "errMGen: 4.3055 | errMGen_bce: 2.9423 | Msl_loss: 0.7806 | Mcl_loss: 0.5826\n",
            "errSRGen: 4.2867 | errSRGen_bce: 3.6283| SRsl_loss: 0.0497 | SRct_loss: 0.3102 | SRcl_loss: 0.2986\n"
          ],
          "name": "stdout"
        },
        {
          "output_type": "stream",
          "text": [
            "\n",
            "\n",
            "\n",
            "\n",
            "\n",
            "\n",
            "\n",
            "\n",
            " 34%|███▍      | 17/50 [23:47<46:02, 83.72s/it]\u001b[A\u001b[A\u001b[A\u001b[A\u001b[A\u001b[A\u001b[A\u001b[A"
          ],
          "name": "stderr"
        },
        {
          "output_type": "stream",
          "text": [
            "[0/180]\n",
            "MDis_real: 0.9472 | MDis_fake: 0.0528 | SRDis_real: 0.9711 | SRDis_fake: 0.0270\n",
            "errMDis: 0.1085 | errMDis_real: 0.0543 | errMDis_fake: 0.0542\n",
            "errSRDis: 0.0567 | errSRDis_real: 0.0293 | errSRDis_fake: 0.0274\n",
            "errMGen: 4.3612 | errMGen_bce: 2.9422 | Msl_loss: 0.8364 | Mcl_loss: 0.5826\n",
            "errSRGen: 4.2426 | errSRGen_bce: 3.6060| SRsl_loss: 0.0442 | SRct_loss: 0.2937 | SRcl_loss: 0.2986\n",
            "[60/180]\n",
            "MDis_real: 0.9473 | MDis_fake: 0.0527 | SRDis_real: 0.9731 | SRDis_fake: 0.0238\n",
            "errMDis: 0.1083 | errMDis_real: 0.0542 | errMDis_fake: 0.0541\n",
            "errSRDis: 0.0516 | errSRDis_real: 0.0276 | errSRDis_fake: 0.0241\n",
            "errMGen: 4.3058 | errMGen_bce: 2.9429 | Msl_loss: 0.7802 | Mcl_loss: 0.5826\n",
            "errSRGen: 4.3980 | errSRGen_bce: 3.7521| SRsl_loss: 0.0465 | SRct_loss: 0.3008 | SRcl_loss: 0.2986\n",
            "[120/180]\n",
            "MDis_real: 0.9472 | MDis_fake: 0.0528 | SRDis_real: 0.9752 | SRDis_fake: 0.0278\n",
            "errMDis: 0.1085 | errMDis_real: 0.0543 | errMDis_fake: 0.0542\n",
            "errSRDis: 0.0534 | errSRDis_real: 0.0252 | errSRDis_fake: 0.0282\n",
            "errMGen: 4.3021 | errMGen_bce: 2.9416 | Msl_loss: 0.7779 | Mcl_loss: 0.5826\n",
            "errSRGen: 4.1945 | errSRGen_bce: 3.5537| SRsl_loss: 0.0452 | SRct_loss: 0.2969 | SRcl_loss: 0.2986\n"
          ],
          "name": "stdout"
        },
        {
          "output_type": "stream",
          "text": [
            "\n",
            "\n",
            "\n",
            "\n",
            "\n",
            "\n",
            "\n",
            "\n",
            " 36%|███▌      | 18/50 [25:11<44:38, 83.70s/it]\u001b[A\u001b[A\u001b[A\u001b[A\u001b[A\u001b[A\u001b[A\u001b[A"
          ],
          "name": "stderr"
        },
        {
          "output_type": "stream",
          "text": [
            "[0/180]\n",
            "MDis_real: 0.9472 | MDis_fake: 0.0527 | SRDis_real: 0.9728 | SRDis_fake: 0.0262\n",
            "errMDis: 0.1084 | errMDis_real: 0.0542 | errMDis_fake: 0.0542\n",
            "errSRDis: 0.0541 | errSRDis_real: 0.0276 | errSRDis_fake: 0.0265\n",
            "errMGen: 4.3569 | errMGen_bce: 2.9426 | Msl_loss: 0.8317 | Mcl_loss: 0.5826\n",
            "errSRGen: 4.3015 | errSRGen_bce: 3.6513| SRsl_loss: 0.0473 | SRct_loss: 0.3042 | SRcl_loss: 0.2986\n",
            "[60/180]\n",
            "MDis_real: 0.9473 | MDis_fake: 0.0528 | SRDis_real: 0.9740 | SRDis_fake: 0.0267\n",
            "errMDis: 0.1084 | errMDis_real: 0.0542 | errMDis_fake: 0.0543\n",
            "errSRDis: 0.0534 | errSRDis_real: 0.0264 | errSRDis_fake: 0.0270\n",
            "errMGen: 4.3184 | errMGen_bce: 2.9412 | Msl_loss: 0.7946 | Mcl_loss: 0.5826\n",
            "errSRGen: 4.2774 | errSRGen_bce: 3.6182| SRsl_loss: 0.0496 | SRct_loss: 0.3110 | SRcl_loss: 0.2986\n",
            "[120/180]\n",
            "MDis_real: 0.9473 | MDis_fake: 0.0528 | SRDis_real: 0.9738 | SRDis_fake: 0.0272\n",
            "errMDis: 0.1084 | errMDis_real: 0.0542 | errMDis_fake: 0.0542\n",
            "errSRDis: 0.0542 | errSRDis_real: 0.0265 | errSRDis_fake: 0.0276\n",
            "errMGen: 4.3255 | errMGen_bce: 2.9410 | Msl_loss: 0.8018 | Mcl_loss: 0.5826\n",
            "errSRGen: 4.2524 | errSRGen_bce: 3.6049| SRsl_loss: 0.0473 | SRct_loss: 0.3016 | SRcl_loss: 0.2986\n"
          ],
          "name": "stdout"
        },
        {
          "output_type": "stream",
          "text": [
            "\n",
            "\n",
            "\n",
            "\n",
            "\n",
            "\n",
            "\n",
            "\n",
            " 38%|███▊      | 19/50 [26:34<43:08, 83.50s/it]\u001b[A\u001b[A\u001b[A\u001b[A\u001b[A\u001b[A\u001b[A\u001b[A"
          ],
          "name": "stderr"
        },
        {
          "output_type": "stream",
          "text": [
            "[0/180]\n",
            "MDis_real: 0.9473 | MDis_fake: 0.0528 | SRDis_real: 0.9737 | SRDis_fake: 0.0267\n",
            "errMDis: 0.1084 | errMDis_real: 0.0542 | errMDis_fake: 0.0542\n",
            "errSRDis: 0.0536 | errSRDis_real: 0.0266 | errSRDis_fake: 0.0270\n",
            "errMGen: 4.2923 | errMGen_bce: 2.9426 | Msl_loss: 0.7671 | Mcl_loss: 0.5826\n",
            "errSRGen: 4.2672 | errSRGen_bce: 3.6239| SRsl_loss: 0.0459 | SRct_loss: 0.2989 | SRcl_loss: 0.2986\n",
            "[60/180]\n",
            "MDis_real: 0.9473 | MDis_fake: 0.0528 | SRDis_real: 0.9737 | SRDis_fake: 0.0270\n",
            "errMDis: 0.1084 | errMDis_real: 0.0542 | errMDis_fake: 0.0543\n",
            "errSRDis: 0.0541 | errSRDis_real: 0.0266 | errSRDis_fake: 0.0274\n",
            "errMGen: 4.2785 | errMGen_bce: 2.9416 | Msl_loss: 0.7543 | Mcl_loss: 0.5826\n",
            "errSRGen: 4.2591 | errSRGen_bce: 3.6115| SRsl_loss: 0.0473 | SRct_loss: 0.3017 | SRcl_loss: 0.2986\n",
            "[120/180]\n",
            "MDis_real: 0.9471 | MDis_fake: 0.0526 | SRDis_real: 0.9739 | SRDis_fake: 0.0269\n",
            "errMDis: 0.1084 | errMDis_real: 0.0543 | errMDis_fake: 0.0541\n",
            "errSRDis: 0.0537 | errSRDis_real: 0.0264 | errSRDis_fake: 0.0273\n",
            "errMGen: 4.3071 | errMGen_bce: 2.9418 | Msl_loss: 0.7827 | Mcl_loss: 0.5826\n",
            "errSRGen: 4.2544 | errSRGen_bce: 3.6160| SRsl_loss: 0.0451 | SRct_loss: 0.2948 | SRcl_loss: 0.2986\n"
          ],
          "name": "stdout"
        },
        {
          "output_type": "stream",
          "text": [
            "\n",
            "\n",
            "\n",
            "\n",
            "\n",
            "\n",
            "\n",
            "\n",
            " 40%|████      | 20/50 [27:57<41:42, 83.43s/it]\u001b[A\u001b[A\u001b[A\u001b[A\u001b[A\u001b[A\u001b[A\u001b[A"
          ],
          "name": "stderr"
        },
        {
          "output_type": "stream",
          "text": [
            "[0/180]\n",
            "MDis_real: 0.9474 | MDis_fake: 0.0529 | SRDis_real: 0.9734 | SRDis_fake: 0.0270\n",
            "errMDis: 0.1084 | errMDis_real: 0.0540 | errMDis_fake: 0.0544\n",
            "errSRDis: 0.0543 | errSRDis_real: 0.0269 | errSRDis_fake: 0.0273\n",
            "errMGen: 4.2594 | errMGen_bce: 2.9362 | Msl_loss: 0.7406 | Mcl_loss: 0.5826\n",
            "errSRGen: 4.2674 | errSRGen_bce: 3.6123| SRsl_loss: 0.0488 | SRct_loss: 0.3076 | SRcl_loss: 0.2986\n",
            "[60/180]\n",
            "MDis_real: 0.9473 | MDis_fake: 0.0526 | SRDis_real: 0.9739 | SRDis_fake: 0.0269\n",
            "errMDis: 0.1082 | errMDis_real: 0.0542 | errMDis_fake: 0.0540\n",
            "errSRDis: 0.0538 | errSRDis_real: 0.0265 | errSRDis_fake: 0.0273\n",
            "errMGen: 4.3156 | errMGen_bce: 2.9459 | Msl_loss: 0.7871 | Mcl_loss: 0.5826\n",
            "errSRGen: 4.2651 | errSRGen_bce: 3.6135| SRsl_loss: 0.0478 | SRct_loss: 0.3052 | SRcl_loss: 0.2986\n",
            "[120/180]\n",
            "MDis_real: 0.9473 | MDis_fake: 0.0529 | SRDis_real: 0.9739 | SRDis_fake: 0.0269\n",
            "errMDis: 0.1085 | errMDis_real: 0.0541 | errMDis_fake: 0.0544\n",
            "errSRDis: 0.0538 | errSRDis_real: 0.0265 | errSRDis_fake: 0.0273\n",
            "errMGen: 4.3409 | errMGen_bce: 2.9392 | Msl_loss: 0.8190 | Mcl_loss: 0.5826\n",
            "errSRGen: 4.2626 | errSRGen_bce: 3.6148| SRsl_loss: 0.0469 | SRct_loss: 0.3023 | SRcl_loss: 0.2986\n"
          ],
          "name": "stdout"
        },
        {
          "output_type": "stream",
          "text": [
            "\n",
            "\n",
            "\n",
            "\n",
            "\n",
            "\n",
            "\n",
            "\n",
            " 42%|████▏     | 21/50 [29:20<40:19, 83.44s/it]\u001b[A\u001b[A\u001b[A\u001b[A\u001b[A\u001b[A\u001b[A\u001b[A"
          ],
          "name": "stderr"
        },
        {
          "output_type": "stream",
          "text": [
            "[0/180]\n",
            "MDis_real: 0.9473 | MDis_fake: 0.0527 | SRDis_real: 0.9734 | SRDis_fake: 0.0269\n",
            "errMDis: 0.1084 | errMDis_real: 0.0542 | errMDis_fake: 0.0542\n",
            "errSRDis: 0.0542 | errSRDis_real: 0.0270 | errSRDis_fake: 0.0273\n",
            "errMGen: 4.3139 | errMGen_bce: 2.9427 | Msl_loss: 0.7886 | Mcl_loss: 0.5826\n",
            "errSRGen: 4.2870 | errSRGen_bce: 3.6154| SRsl_loss: 0.0527 | SRct_loss: 0.3203 | SRcl_loss: 0.2986\n",
            "[60/180]\n",
            "MDis_real: 0.9473 | MDis_fake: 0.0527 | SRDis_real: 0.9739 | SRDis_fake: 0.0269\n",
            "errMDis: 0.1083 | errMDis_real: 0.0542 | errMDis_fake: 0.0542\n",
            "errSRDis: 0.0537 | errSRDis_real: 0.0265 | errSRDis_fake: 0.0272\n",
            "errMGen: 4.3243 | errMGen_bce: 2.9419 | Msl_loss: 0.7998 | Mcl_loss: 0.5826\n",
            "errSRGen: 4.2592 | errSRGen_bce: 3.6164| SRsl_loss: 0.0461 | SRct_loss: 0.2981 | SRcl_loss: 0.2986\n",
            "[120/180]\n",
            "MDis_real: 0.9473 | MDis_fake: 0.0528 | SRDis_real: 0.9740 | SRDis_fake: 0.0269\n",
            "errMDis: 0.1083 | errMDis_real: 0.0541 | errMDis_fake: 0.0542\n",
            "errSRDis: 0.0536 | errSRDis_real: 0.0263 | errSRDis_fake: 0.0273\n",
            "errMGen: 4.3457 | errMGen_bce: 2.9423 | Msl_loss: 0.8208 | Mcl_loss: 0.5826\n",
            "errSRGen: 4.2637 | errSRGen_bce: 3.6135| SRsl_loss: 0.0476 | SRct_loss: 0.3040 | SRcl_loss: 0.2986\n"
          ],
          "name": "stdout"
        },
        {
          "output_type": "stream",
          "text": [
            "\n",
            "\n",
            "\n",
            "\n",
            "\n",
            "\n",
            "\n",
            "\n",
            " 44%|████▍     | 22/50 [30:44<39:00, 83.59s/it]\u001b[A\u001b[A\u001b[A\u001b[A\u001b[A\u001b[A\u001b[A\u001b[A"
          ],
          "name": "stderr"
        },
        {
          "output_type": "stream",
          "text": [
            "[0/180]\n",
            "MDis_real: 0.9473 | MDis_fake: 0.0527 | SRDis_real: 0.9739 | SRDis_fake: 0.0270\n",
            "errMDis: 0.1083 | errMDis_real: 0.0541 | errMDis_fake: 0.0542\n",
            "errSRDis: 0.0538 | errSRDis_real: 0.0265 | errSRDis_fake: 0.0273\n",
            "errMGen: 4.3237 | errMGen_bce: 2.9428 | Msl_loss: 0.7982 | Mcl_loss: 0.5826\n",
            "errSRGen: 4.2521 | errSRGen_bce: 3.6137| SRsl_loss: 0.0447 | SRct_loss: 0.2952 | SRcl_loss: 0.2986\n",
            "[60/180]\n",
            "MDis_real: 0.9473 | MDis_fake: 0.0527 | SRDis_real: 0.9738 | SRDis_fake: 0.0269\n",
            "errMDis: 0.1083 | errMDis_real: 0.0541 | errMDis_fake: 0.0542\n",
            "errSRDis: 0.0538 | errSRDis_real: 0.0265 | errSRDis_fake: 0.0272\n",
            "errMGen: 4.3128 | errMGen_bce: 2.9421 | Msl_loss: 0.7880 | Mcl_loss: 0.5826\n",
            "errSRGen: 4.2600 | errSRGen_bce: 3.6168| SRsl_loss: 0.0463 | SRct_loss: 0.2982 | SRcl_loss: 0.2986\n",
            "[120/180]\n",
            "MDis_real: 0.9473 | MDis_fake: 0.0528 | SRDis_real: 0.9737 | SRDis_fake: 0.0269\n",
            "errMDis: 0.1083 | errMDis_real: 0.0541 | errMDis_fake: 0.0542\n",
            "errSRDis: 0.0538 | errSRDis_real: 0.0266 | errSRDis_fake: 0.0272\n",
            "errMGen: 4.3193 | errMGen_bce: 2.9419 | Msl_loss: 0.7948 | Mcl_loss: 0.5826\n",
            "errSRGen: 4.2611 | errSRGen_bce: 3.6167| SRsl_loss: 0.0462 | SRct_loss: 0.2996 | SRcl_loss: 0.2986\n"
          ],
          "name": "stdout"
        },
        {
          "output_type": "stream",
          "text": [
            "\n",
            "\n",
            "\n",
            "\n",
            "\n",
            "\n",
            "\n",
            "\n",
            " 46%|████▌     | 23/50 [32:07<37:33, 83.45s/it]\u001b[A\u001b[A\u001b[A\u001b[A\u001b[A\u001b[A\u001b[A\u001b[A"
          ],
          "name": "stderr"
        },
        {
          "output_type": "stream",
          "text": [
            "[0/180]\n",
            "MDis_real: 0.9473 | MDis_fake: 0.0527 | SRDis_real: 0.9732 | SRDis_fake: 0.0269\n",
            "errMDis: 0.1083 | errMDis_real: 0.0541 | errMDis_fake: 0.0542\n",
            "errSRDis: 0.0545 | errSRDis_real: 0.0272 | errSRDis_fake: 0.0272\n",
            "errMGen: 4.3325 | errMGen_bce: 2.9431 | Msl_loss: 0.8067 | Mcl_loss: 0.5826\n",
            "errSRGen: 4.2676 | errSRGen_bce: 3.6166| SRsl_loss: 0.0476 | SRct_loss: 0.3048 | SRcl_loss: 0.2986\n",
            "[60/180]\n",
            "MDis_real: 0.9474 | MDis_fake: 0.0527 | SRDis_real: 0.9738 | SRDis_fake: 0.0269\n",
            "errMDis: 0.1082 | errMDis_real: 0.0541 | errMDis_fake: 0.0541\n",
            "errSRDis: 0.0538 | errSRDis_real: 0.0265 | errSRDis_fake: 0.0273\n",
            "errMGen: 4.3537 | errMGen_bce: 2.9439 | Msl_loss: 0.8271 | Mcl_loss: 0.5826\n",
            "errSRGen: 4.2685 | errSRGen_bce: 3.6157| SRsl_loss: 0.0485 | SRct_loss: 0.3057 | SRcl_loss: 0.2986\n",
            "[120/180]\n",
            "MDis_real: 0.9473 | MDis_fake: 0.0527 | SRDis_real: 0.9739 | SRDis_fake: 0.0269\n",
            "errMDis: 0.1082 | errMDis_real: 0.0541 | errMDis_fake: 0.0541\n",
            "errSRDis: 0.0537 | errSRDis_real: 0.0264 | errSRDis_fake: 0.0272\n",
            "errMGen: 4.3141 | errMGen_bce: 2.9434 | Msl_loss: 0.7880 | Mcl_loss: 0.5826\n",
            "errSRGen: 4.2652 | errSRGen_bce: 3.6167| SRsl_loss: 0.0473 | SRct_loss: 0.3026 | SRcl_loss: 0.2986\n"
          ],
          "name": "stdout"
        },
        {
          "output_type": "stream",
          "text": [
            "\n",
            "\n",
            "\n",
            "\n",
            "\n",
            "\n",
            "\n",
            "\n",
            " 48%|████▊     | 24/50 [33:31<36:07, 83.38s/it]\u001b[A\u001b[A\u001b[A\u001b[A\u001b[A\u001b[A\u001b[A\u001b[A"
          ],
          "name": "stderr"
        },
        {
          "output_type": "stream",
          "text": [
            "[0/180]\n",
            "MDis_real: 0.9473 | MDis_fake: 0.0527 | SRDis_real: 0.9739 | SRDis_fake: 0.0269\n",
            "errMDis: 0.1083 | errMDis_real: 0.0541 | errMDis_fake: 0.0542\n",
            "errSRDis: 0.0538 | errSRDis_real: 0.0265 | errSRDis_fake: 0.0273\n",
            "errMGen: 4.3694 | errMGen_bce: 2.9428 | Msl_loss: 0.8439 | Mcl_loss: 0.5826\n",
            "errSRGen: 4.2672 | errSRGen_bce: 3.6160| SRsl_loss: 0.0482 | SRct_loss: 0.3045 | SRcl_loss: 0.2986\n",
            "[60/180]\n",
            "MDis_real: 0.9473 | MDis_fake: 0.0526 | SRDis_real: 0.9731 | SRDis_fake: 0.0269\n",
            "errMDis: 0.1082 | errMDis_real: 0.0541 | errMDis_fake: 0.0541\n",
            "errSRDis: 0.0545 | errSRDis_real: 0.0273 | errSRDis_fake: 0.0272\n",
            "errMGen: 4.3738 | errMGen_bce: 2.9459 | Msl_loss: 0.8452 | Mcl_loss: 0.5826\n",
            "errSRGen: 4.2657 | errSRGen_bce: 3.6183| SRsl_loss: 0.0472 | SRct_loss: 0.3016 | SRcl_loss: 0.2986\n",
            "[120/180]\n",
            "MDis_real: 0.9473 | MDis_fake: 0.0526 | SRDis_real: 0.9741 | SRDis_fake: 0.0269\n",
            "errMDis: 0.1082 | errMDis_real: 0.0541 | errMDis_fake: 0.0541\n",
            "errSRDis: 0.0535 | errSRDis_real: 0.0262 | errSRDis_fake: 0.0273\n",
            "errMGen: 4.3632 | errMGen_bce: 2.9449 | Msl_loss: 0.8357 | Mcl_loss: 0.5826\n",
            "errSRGen: 4.2591 | errSRGen_bce: 3.6161| SRsl_loss: 0.0459 | SRct_loss: 0.2986 | SRcl_loss: 0.2986\n"
          ],
          "name": "stdout"
        },
        {
          "output_type": "stream",
          "text": [
            "\n",
            "\n",
            "\n",
            "\n",
            "\n",
            "\n",
            "\n",
            "\n",
            " 50%|█████     | 25/50 [34:53<34:40, 83.24s/it]\u001b[A\u001b[A\u001b[A\u001b[A\u001b[A\u001b[A\u001b[A\u001b[A"
          ],
          "name": "stderr"
        },
        {
          "output_type": "stream",
          "text": [
            "[0/180]\n",
            "MDis_real: 0.9474 | MDis_fake: 0.0527 | SRDis_real: 0.9739 | SRDis_fake: 0.0269\n",
            "errMDis: 0.1082 | errMDis_real: 0.0541 | errMDis_fake: 0.0541\n",
            "errSRDis: 0.0537 | errSRDis_real: 0.0264 | errSRDis_fake: 0.0272\n",
            "errMGen: 4.3879 | errMGen_bce: 2.9431 | Msl_loss: 0.8621 | Mcl_loss: 0.5826\n",
            "errSRGen: 4.2538 | errSRGen_bce: 3.6163| SRsl_loss: 0.0449 | SRct_loss: 0.2941 | SRcl_loss: 0.2986\n",
            "[60/180]\n",
            "MDis_real: 0.9474 | MDis_fake: 0.0527 | SRDis_real: 0.9737 | SRDis_fake: 0.0268\n",
            "errMDis: 0.1081 | errMDis_real: 0.0540 | errMDis_fake: 0.0541\n",
            "errSRDis: 0.0538 | errSRDis_real: 0.0266 | errSRDis_fake: 0.0272\n",
            "errMGen: 4.3716 | errMGen_bce: 2.9439 | Msl_loss: 0.8451 | Mcl_loss: 0.5826\n",
            "errSRGen: 4.2489 | errSRGen_bce: 3.6181| SRsl_loss: 0.0435 | SRct_loss: 0.2887 | SRcl_loss: 0.2986\n",
            "[120/180]\n",
            "MDis_real: 0.9474 | MDis_fake: 0.0527 | SRDis_real: 0.9740 | SRDis_fake: 0.0269\n",
            "errMDis: 0.1081 | errMDis_real: 0.0540 | errMDis_fake: 0.0541\n",
            "errSRDis: 0.0536 | errSRDis_real: 0.0263 | errSRDis_fake: 0.0273\n",
            "errMGen: 4.3300 | errMGen_bce: 2.9446 | Msl_loss: 0.8027 | Mcl_loss: 0.5826\n",
            "errSRGen: 4.2742 | errSRGen_bce: 3.6153| SRsl_loss: 0.0496 | SRct_loss: 0.3106 | SRcl_loss: 0.2986\n",
            "Saving models at epoch: 25\n"
          ],
          "name": "stdout"
        },
        {
          "output_type": "stream",
          "text": [
            "\n",
            "\n",
            "\n",
            "\n",
            "\n",
            "\n",
            "\n",
            "\n",
            " 52%|█████▏    | 26/50 [36:17<33:21, 83.42s/it]\u001b[A\u001b[A\u001b[A\u001b[A\u001b[A\u001b[A\u001b[A\u001b[A"
          ],
          "name": "stderr"
        },
        {
          "output_type": "stream",
          "text": [
            "[0/180]\n",
            "MDis_real: 0.9474 | MDis_fake: 0.0526 | SRDis_real: 0.9739 | SRDis_fake: 0.0268\n",
            "errMDis: 0.1081 | errMDis_real: 0.0540 | errMDis_fake: 0.0541\n",
            "errSRDis: 0.0537 | errSRDis_real: 0.0265 | errSRDis_fake: 0.0272\n",
            "errMGen: 4.3618 | errMGen_bce: 2.9445 | Msl_loss: 0.8347 | Mcl_loss: 0.5826\n",
            "errSRGen: 4.2622 | errSRGen_bce: 3.6179| SRsl_loss: 0.0462 | SRct_loss: 0.2995 | SRcl_loss: 0.2986\n",
            "[60/180]\n",
            "MDis_real: 0.9474 | MDis_fake: 0.0526 | SRDis_real: 0.9738 | SRDis_fake: 0.0268\n",
            "errMDis: 0.1081 | errMDis_real: 0.0540 | errMDis_fake: 0.0541\n",
            "errSRDis: 0.0537 | errSRDis_real: 0.0265 | errSRDis_fake: 0.0272\n",
            "errMGen: 4.3033 | errMGen_bce: 2.9449 | Msl_loss: 0.7758 | Mcl_loss: 0.5826\n",
            "errSRGen: 4.2625 | errSRGen_bce: 3.6192| SRsl_loss: 0.0459 | SRct_loss: 0.2989 | SRcl_loss: 0.2986\n",
            "[120/180]\n",
            "MDis_real: 0.9474 | MDis_fake: 0.0526 | SRDis_real: 0.9740 | SRDis_fake: 0.0268\n",
            "errMDis: 0.1081 | errMDis_real: 0.0540 | errMDis_fake: 0.0540\n",
            "errSRDis: 0.0535 | errSRDis_real: 0.0263 | errSRDis_fake: 0.0272\n",
            "errMGen: 4.3418 | errMGen_bce: 2.9447 | Msl_loss: 0.8145 | Mcl_loss: 0.5826\n",
            "errSRGen: 4.2688 | errSRGen_bce: 3.6188| SRsl_loss: 0.0479 | SRct_loss: 0.3036 | SRcl_loss: 0.2986\n"
          ],
          "name": "stdout"
        },
        {
          "output_type": "stream",
          "text": [
            "\n",
            "\n",
            "\n",
            "\n",
            "\n",
            "\n",
            "\n",
            "\n",
            " 54%|█████▍    | 27/50 [37:41<32:01, 83.56s/it]\u001b[A\u001b[A\u001b[A\u001b[A\u001b[A\u001b[A\u001b[A\u001b[A"
          ],
          "name": "stderr"
        },
        {
          "output_type": "stream",
          "text": [
            "[0/180]\n",
            "MDis_real: 0.9474 | MDis_fake: 0.0526 | SRDis_real: 0.9738 | SRDis_fake: 0.0269\n",
            "errMDis: 0.1081 | errMDis_real: 0.0540 | errMDis_fake: 0.0541\n",
            "errSRDis: 0.0537 | errSRDis_real: 0.0265 | errSRDis_fake: 0.0272\n",
            "errMGen: 4.3383 | errMGen_bce: 2.9443 | Msl_loss: 0.8114 | Mcl_loss: 0.5826\n",
            "errSRGen: 4.2746 | errSRGen_bce: 3.6171| SRsl_loss: 0.0494 | SRct_loss: 0.3095 | SRcl_loss: 0.2986\n",
            "[60/180]\n",
            "MDis_real: 0.9474 | MDis_fake: 0.0526 | SRDis_real: 0.9740 | SRDis_fake: 0.0268\n",
            "errMDis: 0.1081 | errMDis_real: 0.0540 | errMDis_fake: 0.0541\n",
            "errSRDis: 0.0536 | errSRDis_real: 0.0264 | errSRDis_fake: 0.0272\n",
            "errMGen: 4.3404 | errMGen_bce: 2.9449 | Msl_loss: 0.8128 | Mcl_loss: 0.5826\n",
            "errSRGen: 4.2706 | errSRGen_bce: 3.6185| SRsl_loss: 0.0479 | SRct_loss: 0.3055 | SRcl_loss: 0.2986\n",
            "[120/180]\n",
            "MDis_real: 0.9475 | MDis_fake: 0.0526 | SRDis_real: 0.9739 | SRDis_fake: 0.0268\n",
            "errMDis: 0.1080 | errMDis_real: 0.0540 | errMDis_fake: 0.0540\n",
            "errSRDis: 0.0537 | errSRDis_real: 0.0265 | errSRDis_fake: 0.0272\n",
            "errMGen: 4.3470 | errMGen_bce: 2.9456 | Msl_loss: 0.8187 | Mcl_loss: 0.5826\n",
            "errSRGen: 4.2552 | errSRGen_bce: 3.6185| SRsl_loss: 0.0445 | SRct_loss: 0.2936 | SRcl_loss: 0.2986\n"
          ],
          "name": "stdout"
        },
        {
          "output_type": "stream",
          "text": [
            "\n",
            "\n",
            "\n",
            "\n",
            "\n",
            "\n",
            "\n",
            "\n",
            " 56%|█████▌    | 28/50 [39:05<30:38, 83.56s/it]\u001b[A\u001b[A\u001b[A\u001b[A\u001b[A\u001b[A\u001b[A\u001b[A"
          ],
          "name": "stderr"
        },
        {
          "output_type": "stream",
          "text": [
            "[0/180]\n",
            "MDis_real: 0.9473 | MDis_fake: 0.0526 | SRDis_real: 0.9738 | SRDis_fake: 0.0268\n",
            "errMDis: 0.1082 | errMDis_real: 0.0542 | errMDis_fake: 0.0540\n",
            "errSRDis: 0.0537 | errSRDis_real: 0.0265 | errSRDis_fake: 0.0272\n",
            "errMGen: 4.2892 | errMGen_bce: 2.9444 | Msl_loss: 0.7622 | Mcl_loss: 0.5826\n",
            "errSRGen: 4.2694 | errSRGen_bce: 3.6198| SRsl_loss: 0.0474 | SRct_loss: 0.3036 | SRcl_loss: 0.2986\n",
            "[60/180]\n",
            "MDis_real: 0.9473 | MDis_fake: 0.0525 | SRDis_real: 0.9739 | SRDis_fake: 0.0268\n",
            "errMDis: 0.1081 | errMDis_real: 0.0542 | errMDis_fake: 0.0539\n",
            "errSRDis: 0.0536 | errSRDis_real: 0.0265 | errSRDis_fake: 0.0272\n",
            "errMGen: 4.3593 | errMGen_bce: 2.9467 | Msl_loss: 0.8300 | Mcl_loss: 0.5826\n",
            "errSRGen: 4.2621 | errSRGen_bce: 3.6190| SRsl_loss: 0.0461 | SRct_loss: 0.2984 | SRcl_loss: 0.2986\n",
            "[120/180]\n",
            "MDis_real: 0.9473 | MDis_fake: 0.0525 | SRDis_real: 0.9738 | SRDis_fake: 0.0268\n",
            "errMDis: 0.1081 | errMDis_real: 0.0542 | errMDis_fake: 0.0539\n",
            "errSRDis: 0.0537 | errSRDis_real: 0.0265 | errSRDis_fake: 0.0272\n",
            "errMGen: 4.3501 | errMGen_bce: 2.9479 | Msl_loss: 0.8196 | Mcl_loss: 0.5826\n",
            "errSRGen: 4.2670 | errSRGen_bce: 3.6191| SRsl_loss: 0.0474 | SRct_loss: 0.3019 | SRcl_loss: 0.2986\n"
          ],
          "name": "stdout"
        },
        {
          "output_type": "stream",
          "text": [
            "\n",
            "\n",
            "\n",
            "\n",
            "\n",
            "\n",
            "\n",
            "\n",
            " 58%|█████▊    | 29/50 [40:28<29:14, 83.56s/it]\u001b[A\u001b[A\u001b[A\u001b[A\u001b[A\u001b[A\u001b[A\u001b[A"
          ],
          "name": "stderr"
        },
        {
          "output_type": "stream",
          "text": [
            "[0/180]\n",
            "MDis_real: 0.9473 | MDis_fake: 0.0525 | SRDis_real: 0.9739 | SRDis_fake: 0.0268\n",
            "errMDis: 0.1080 | errMDis_real: 0.0541 | errMDis_fake: 0.0539\n",
            "errSRDis: 0.0536 | errSRDis_real: 0.0265 | errSRDis_fake: 0.0272\n",
            "errMGen: 4.3590 | errMGen_bce: 2.9473 | Msl_loss: 0.8290 | Mcl_loss: 0.5826\n",
            "errSRGen: 4.2583 | errSRGen_bce: 3.6192| SRsl_loss: 0.0454 | SRct_loss: 0.2951 | SRcl_loss: 0.2986\n",
            "[60/180]\n",
            "MDis_real: 0.9474 | MDis_fake: 0.0526 | SRDis_real: 0.9738 | SRDis_fake: 0.0268\n",
            "errMDis: 0.1081 | errMDis_real: 0.0541 | errMDis_fake: 0.0540\n",
            "errSRDis: 0.0537 | errSRDis_real: 0.0265 | errSRDis_fake: 0.0272\n",
            "errMGen: 4.3033 | errMGen_bce: 2.9460 | Msl_loss: 0.7746 | Mcl_loss: 0.5826\n",
            "errSRGen: 4.2692 | errSRGen_bce: 3.6188| SRsl_loss: 0.0476 | SRct_loss: 0.3042 | SRcl_loss: 0.2986\n",
            "[120/180]\n",
            "MDis_real: 0.9474 | MDis_fake: 0.0526 | SRDis_real: 0.9739 | SRDis_fake: 0.0268\n",
            "errMDis: 0.1081 | errMDis_real: 0.0540 | errMDis_fake: 0.0540\n",
            "errSRDis: 0.0536 | errSRDis_real: 0.0265 | errSRDis_fake: 0.0272\n",
            "errMGen: 4.2887 | errMGen_bce: 2.9451 | Msl_loss: 0.7610 | Mcl_loss: 0.5826\n",
            "errSRGen: 4.2832 | errSRGen_bce: 3.6195| SRsl_loss: 0.0512 | SRct_loss: 0.3140 | SRcl_loss: 0.2986\n"
          ],
          "name": "stdout"
        },
        {
          "output_type": "stream",
          "text": [
            "\n",
            "\n",
            "\n",
            "\n",
            "\n",
            "\n",
            "\n",
            "\n",
            " 60%|██████    | 30/50 [41:52<27:51, 83.56s/it]\u001b[A\u001b[A\u001b[A\u001b[A\u001b[A\u001b[A\u001b[A\u001b[A"
          ],
          "name": "stderr"
        },
        {
          "output_type": "stream",
          "text": [
            "[0/180]\n",
            "MDis_real: 0.9474 | MDis_fake: 0.0526 | SRDis_real: 0.9738 | SRDis_fake: 0.0268\n",
            "errMDis: 0.1081 | errMDis_real: 0.0540 | errMDis_fake: 0.0540\n",
            "errSRDis: 0.0537 | errSRDis_real: 0.0266 | errSRDis_fake: 0.0272\n",
            "errMGen: 4.3816 | errMGen_bce: 2.9451 | Msl_loss: 0.8539 | Mcl_loss: 0.5826\n",
            "errSRGen: 4.2771 | errSRGen_bce: 3.6194| SRsl_loss: 0.0492 | SRct_loss: 0.3098 | SRcl_loss: 0.2986\n",
            "[60/180]\n",
            "MDis_real: 0.9474 | MDis_fake: 0.0526 | SRDis_real: 0.9739 | SRDis_fake: 0.0268\n",
            "errMDis: 0.1081 | errMDis_real: 0.0540 | errMDis_fake: 0.0541\n",
            "errSRDis: 0.0536 | errSRDis_real: 0.0265 | errSRDis_fake: 0.0272\n",
            "errMGen: 4.3589 | errMGen_bce: 2.9444 | Msl_loss: 0.8319 | Mcl_loss: 0.5826\n",
            "errSRGen: 4.2666 | errSRGen_bce: 3.6200| SRsl_loss: 0.0468 | SRct_loss: 0.3012 | SRcl_loss: 0.2986\n",
            "[120/180]\n",
            "MDis_real: 0.9474 | MDis_fake: 0.0526 | SRDis_real: 0.9739 | SRDis_fake: 0.0268\n",
            "errMDis: 0.1081 | errMDis_real: 0.0541 | errMDis_fake: 0.0541\n",
            "errSRDis: 0.0536 | errSRDis_real: 0.0265 | errSRDis_fake: 0.0272\n",
            "errMGen: 4.3719 | errMGen_bce: 2.9443 | Msl_loss: 0.8450 | Mcl_loss: 0.5826\n",
            "errSRGen: 4.2611 | errSRGen_bce: 3.6195| SRsl_loss: 0.0459 | SRct_loss: 0.2971 | SRcl_loss: 0.2986\n"
          ],
          "name": "stdout"
        },
        {
          "output_type": "stream",
          "text": [
            "\n",
            "\n",
            "\n",
            "\n",
            "\n",
            "\n",
            "\n",
            "\n",
            " 62%|██████▏   | 31/50 [43:15<26:27, 83.56s/it]\u001b[A\u001b[A\u001b[A\u001b[A\u001b[A\u001b[A\u001b[A\u001b[A"
          ],
          "name": "stderr"
        },
        {
          "output_type": "stream",
          "text": [
            "[0/180]\n",
            "MDis_real: 0.9474 | MDis_fake: 0.0527 | SRDis_real: 0.9738 | SRDis_fake: 0.0268\n",
            "errMDis: 0.1081 | errMDis_real: 0.0540 | errMDis_fake: 0.0541\n",
            "errSRDis: 0.0537 | errSRDis_real: 0.0266 | errSRDis_fake: 0.0272\n",
            "errMGen: 4.3390 | errMGen_bce: 2.9440 | Msl_loss: 0.8124 | Mcl_loss: 0.5826\n",
            "errSRGen: 4.2830 | errSRGen_bce: 3.6197| SRsl_loss: 0.0508 | SRct_loss: 0.3140 | SRcl_loss: 0.2986\n",
            "[60/180]\n",
            "MDis_real: 0.9474 | MDis_fake: 0.0526 | SRDis_real: 0.9739 | SRDis_fake: 0.0268\n",
            "errMDis: 0.1080 | errMDis_real: 0.0540 | errMDis_fake: 0.0540\n",
            "errSRDis: 0.0536 | errSRDis_real: 0.0265 | errSRDis_fake: 0.0272\n",
            "errMGen: 4.3764 | errMGen_bce: 2.9452 | Msl_loss: 0.8487 | Mcl_loss: 0.5826\n",
            "errSRGen: 4.2690 | errSRGen_bce: 3.6190| SRsl_loss: 0.0477 | SRct_loss: 0.3037 | SRcl_loss: 0.2986\n",
            "[120/180]\n",
            "MDis_real: 0.9474 | MDis_fake: 0.0526 | SRDis_real: 0.9739 | SRDis_fake: 0.0268\n",
            "errMDis: 0.1081 | errMDis_real: 0.0541 | errMDis_fake: 0.0540\n",
            "errSRDis: 0.0537 | errSRDis_real: 0.0265 | errSRDis_fake: 0.0272\n",
            "errMGen: 4.3249 | errMGen_bce: 2.9449 | Msl_loss: 0.7974 | Mcl_loss: 0.5826\n",
            "errSRGen: 4.2636 | errSRGen_bce: 3.6191| SRsl_loss: 0.0463 | SRct_loss: 0.2996 | SRcl_loss: 0.2986\n"
          ],
          "name": "stdout"
        },
        {
          "output_type": "stream",
          "text": [
            "\n",
            "\n",
            "\n",
            "\n",
            "\n",
            "\n",
            "\n",
            "\n",
            " 64%|██████▍   | 32/50 [44:39<25:05, 83.62s/it]\u001b[A\u001b[A\u001b[A\u001b[A\u001b[A\u001b[A\u001b[A\u001b[A"
          ],
          "name": "stderr"
        },
        {
          "output_type": "stream",
          "text": [
            "[0/180]\n",
            "MDis_real: 0.9474 | MDis_fake: 0.0526 | SRDis_real: 0.9738 | SRDis_fake: 0.0268\n",
            "errMDis: 0.1081 | errMDis_real: 0.0541 | errMDis_fake: 0.0541\n",
            "errSRDis: 0.0537 | errSRDis_real: 0.0265 | errSRDis_fake: 0.0271\n",
            "errMGen: 4.3166 | errMGen_bce: 2.9446 | Msl_loss: 0.7894 | Mcl_loss: 0.5826\n",
            "errSRGen: 4.2715 | errSRGen_bce: 3.6204| SRsl_loss: 0.0479 | SRct_loss: 0.3046 | SRcl_loss: 0.2986\n",
            "[60/180]\n",
            "MDis_real: 0.9474 | MDis_fake: 0.0526 | SRDis_real: 0.9738 | SRDis_fake: 0.0268\n",
            "errMDis: 0.1081 | errMDis_real: 0.0540 | errMDis_fake: 0.0540\n",
            "errSRDis: 0.0537 | errSRDis_real: 0.0265 | errSRDis_fake: 0.0271\n",
            "errMGen: 4.3578 | errMGen_bce: 2.9446 | Msl_loss: 0.8306 | Mcl_loss: 0.5826\n",
            "errSRGen: 4.2703 | errSRGen_bce: 3.6200| SRsl_loss: 0.0475 | SRct_loss: 0.3042 | SRcl_loss: 0.2986\n",
            "[120/180]\n",
            "MDis_real: 0.9474 | MDis_fake: 0.0526 | SRDis_real: 0.9738 | SRDis_fake: 0.0268\n",
            "errMDis: 0.1081 | errMDis_real: 0.0540 | errMDis_fake: 0.0541\n",
            "errSRDis: 0.0537 | errSRDis_real: 0.0266 | errSRDis_fake: 0.0271\n",
            "errMGen: 4.3417 | errMGen_bce: 2.9443 | Msl_loss: 0.8148 | Mcl_loss: 0.5826\n",
            "errSRGen: 4.2542 | errSRGen_bce: 3.6202| SRsl_loss: 0.0441 | SRct_loss: 0.2913 | SRcl_loss: 0.2986\n"
          ],
          "name": "stdout"
        },
        {
          "output_type": "stream",
          "text": [
            "\n",
            "\n",
            "\n",
            "\n",
            "\n",
            "\n",
            "\n",
            "\n",
            " 66%|██████▌   | 33/50 [46:03<23:42, 83.67s/it]\u001b[A\u001b[A\u001b[A\u001b[A\u001b[A\u001b[A\u001b[A\u001b[A"
          ],
          "name": "stderr"
        },
        {
          "output_type": "stream",
          "text": [
            "[0/180]\n",
            "MDis_real: 0.9474 | MDis_fake: 0.0526 | SRDis_real: 0.9739 | SRDis_fake: 0.0268\n",
            "errMDis: 0.1081 | errMDis_real: 0.0540 | errMDis_fake: 0.0541\n",
            "errSRDis: 0.0536 | errSRDis_real: 0.0264 | errSRDis_fake: 0.0272\n",
            "errMGen: 4.3449 | errMGen_bce: 2.9447 | Msl_loss: 0.8176 | Mcl_loss: 0.5826\n",
            "errSRGen: 4.2569 | errSRGen_bce: 3.6183| SRsl_loss: 0.0452 | SRct_loss: 0.2949 | SRcl_loss: 0.2986\n",
            "[60/180]\n",
            "MDis_real: 0.9474 | MDis_fake: 0.0526 | SRDis_real: 0.9738 | SRDis_fake: 0.0268\n",
            "errMDis: 0.1081 | errMDis_real: 0.0540 | errMDis_fake: 0.0540\n",
            "errSRDis: 0.0537 | errSRDis_real: 0.0265 | errSRDis_fake: 0.0272\n",
            "errMGen: 4.2913 | errMGen_bce: 2.9448 | Msl_loss: 0.7639 | Mcl_loss: 0.5826\n",
            "errSRGen: 4.2614 | errSRGen_bce: 3.6199| SRsl_loss: 0.0456 | SRct_loss: 0.2973 | SRcl_loss: 0.2986\n",
            "[120/180]\n",
            "MDis_real: 0.9474 | MDis_fake: 0.0526 | SRDis_real: 0.9738 | SRDis_fake: 0.0268\n",
            "errMDis: 0.1081 | errMDis_real: 0.0540 | errMDis_fake: 0.0540\n",
            "errSRDis: 0.0537 | errSRDis_real: 0.0266 | errSRDis_fake: 0.0272\n",
            "errMGen: 4.3572 | errMGen_bce: 2.9451 | Msl_loss: 0.8295 | Mcl_loss: 0.5826\n",
            "errSRGen: 4.2779 | errSRGen_bce: 3.6186| SRsl_loss: 0.0499 | SRct_loss: 0.3109 | SRcl_loss: 0.2986\n"
          ],
          "name": "stdout"
        },
        {
          "output_type": "stream",
          "text": [
            "\n",
            "\n",
            "\n",
            "\n",
            "\n",
            "\n",
            "\n",
            "\n",
            " 68%|██████▊   | 34/50 [47:27<22:19, 83.70s/it]\u001b[A\u001b[A\u001b[A\u001b[A\u001b[A\u001b[A\u001b[A\u001b[A"
          ],
          "name": "stderr"
        },
        {
          "output_type": "stream",
          "text": [
            "[0/180]\n",
            "MDis_real: 0.9474 | MDis_fake: 0.0526 | SRDis_real: 0.9739 | SRDis_fake: 0.0268\n",
            "errMDis: 0.1081 | errMDis_real: 0.0541 | errMDis_fake: 0.0540\n",
            "errSRDis: 0.0536 | errSRDis_real: 0.0265 | errSRDis_fake: 0.0272\n",
            "errMGen: 4.3383 | errMGen_bce: 2.9446 | Msl_loss: 0.8111 | Mcl_loss: 0.5826\n",
            "errSRGen: 4.2613 | errSRGen_bce: 3.6196| SRsl_loss: 0.0457 | SRct_loss: 0.2975 | SRcl_loss: 0.2986\n",
            "[60/180]\n",
            "MDis_real: 0.9474 | MDis_fake: 0.0526 | SRDis_real: 0.9739 | SRDis_fake: 0.0268\n",
            "errMDis: 0.1081 | errMDis_real: 0.0541 | errMDis_fake: 0.0541\n",
            "errSRDis: 0.0536 | errSRDis_real: 0.0265 | errSRDis_fake: 0.0272\n",
            "errMGen: 4.3325 | errMGen_bce: 2.9448 | Msl_loss: 0.8051 | Mcl_loss: 0.5826\n",
            "errSRGen: 4.2666 | errSRGen_bce: 3.6195| SRsl_loss: 0.0472 | SRct_loss: 0.3013 | SRcl_loss: 0.2986\n",
            "[120/180]\n",
            "MDis_real: 0.9473 | MDis_fake: 0.0526 | SRDis_real: 0.9738 | SRDis_fake: 0.0268\n",
            "errMDis: 0.1081 | errMDis_real: 0.0541 | errMDis_fake: 0.0540\n",
            "errSRDis: 0.0537 | errSRDis_real: 0.0265 | errSRDis_fake: 0.0271\n",
            "errMGen: 4.2670 | errMGen_bce: 2.9446 | Msl_loss: 0.7398 | Mcl_loss: 0.5826\n",
            "errSRGen: 4.2755 | errSRGen_bce: 3.6205| SRsl_loss: 0.0489 | SRct_loss: 0.3076 | SRcl_loss: 0.2986\n"
          ],
          "name": "stdout"
        },
        {
          "output_type": "stream",
          "text": [
            "\n",
            "\n",
            "\n",
            "\n",
            "\n",
            "\n",
            "\n",
            "\n",
            " 70%|███████   | 35/50 [48:51<20:58, 83.93s/it]\u001b[A\u001b[A\u001b[A\u001b[A\u001b[A\u001b[A\u001b[A\u001b[A"
          ],
          "name": "stderr"
        },
        {
          "output_type": "stream",
          "text": [
            "[0/180]\n",
            "MDis_real: 0.9474 | MDis_fake: 0.0526 | SRDis_real: 0.9739 | SRDis_fake: 0.0268\n",
            "errMDis: 0.1081 | errMDis_real: 0.0541 | errMDis_fake: 0.0541\n",
            "errSRDis: 0.0536 | errSRDis_real: 0.0264 | errSRDis_fake: 0.0272\n",
            "errMGen: 4.3381 | errMGen_bce: 2.9444 | Msl_loss: 0.8110 | Mcl_loss: 0.5826\n",
            "errSRGen: 4.2589 | errSRGen_bce: 3.6195| SRsl_loss: 0.0454 | SRct_loss: 0.2955 | SRcl_loss: 0.2986\n",
            "[60/180]\n",
            "MDis_real: 0.9474 | MDis_fake: 0.0526 | SRDis_real: 0.9738 | SRDis_fake: 0.0268\n",
            "errMDis: 0.1080 | errMDis_real: 0.0540 | errMDis_fake: 0.0541\n",
            "errSRDis: 0.0536 | errSRDis_real: 0.0265 | errSRDis_fake: 0.0271\n",
            "errMGen: 4.2876 | errMGen_bce: 2.9450 | Msl_loss: 0.7599 | Mcl_loss: 0.5826\n",
            "errSRGen: 4.2573 | errSRGen_bce: 3.6203| SRsl_loss: 0.0445 | SRct_loss: 0.2939 | SRcl_loss: 0.2986\n",
            "[120/180]\n",
            "MDis_real: 0.9474 | MDis_fake: 0.0526 | SRDis_real: 0.9739 | SRDis_fake: 0.0268\n",
            "errMDis: 0.1080 | errMDis_real: 0.0540 | errMDis_fake: 0.0540\n",
            "errSRDis: 0.0536 | errSRDis_real: 0.0265 | errSRDis_fake: 0.0271\n",
            "errMGen: 4.3392 | errMGen_bce: 2.9448 | Msl_loss: 0.8118 | Mcl_loss: 0.5826\n",
            "errSRGen: 4.2649 | errSRGen_bce: 3.6207| SRsl_loss: 0.0461 | SRct_loss: 0.2995 | SRcl_loss: 0.2986\n"
          ],
          "name": "stdout"
        },
        {
          "output_type": "stream",
          "text": [
            "\n",
            "\n",
            "\n",
            "\n",
            "\n",
            "\n",
            "\n",
            "\n",
            " 72%|███████▏  | 36/50 [50:15<19:35, 83.96s/it]\u001b[A\u001b[A\u001b[A\u001b[A\u001b[A\u001b[A\u001b[A\u001b[A"
          ],
          "name": "stderr"
        },
        {
          "output_type": "stream",
          "text": [
            "[0/180]\n",
            "MDis_real: 0.9474 | MDis_fake: 0.0526 | SRDis_real: 0.9739 | SRDis_fake: 0.0268\n",
            "errMDis: 0.1081 | errMDis_real: 0.0540 | errMDis_fake: 0.0540\n",
            "errSRDis: 0.0536 | errSRDis_real: 0.0265 | errSRDis_fake: 0.0272\n",
            "errMGen: 4.3537 | errMGen_bce: 2.9450 | Msl_loss: 0.8261 | Mcl_loss: 0.5826\n",
            "errSRGen: 4.2665 | errSRGen_bce: 3.6199| SRsl_loss: 0.0469 | SRct_loss: 0.3011 | SRcl_loss: 0.2986\n",
            "[60/180]\n",
            "MDis_real: 0.9474 | MDis_fake: 0.0526 | SRDis_real: 0.9739 | SRDis_fake: 0.0268\n",
            "errMDis: 0.1081 | errMDis_real: 0.0540 | errMDis_fake: 0.0540\n",
            "errSRDis: 0.0536 | errSRDis_real: 0.0265 | errSRDis_fake: 0.0272\n",
            "errMGen: 4.3273 | errMGen_bce: 2.9453 | Msl_loss: 0.7994 | Mcl_loss: 0.5826\n",
            "errSRGen: 4.2703 | errSRGen_bce: 3.6194| SRsl_loss: 0.0479 | SRct_loss: 0.3044 | SRcl_loss: 0.2986\n",
            "[120/180]\n",
            "MDis_real: 0.9474 | MDis_fake: 0.0526 | SRDis_real: 0.9739 | SRDis_fake: 0.0268\n",
            "errMDis: 0.1080 | errMDis_real: 0.0540 | errMDis_fake: 0.0540\n",
            "errSRDis: 0.0536 | errSRDis_real: 0.0265 | errSRDis_fake: 0.0272\n",
            "errMGen: 4.3655 | errMGen_bce: 2.9454 | Msl_loss: 0.8375 | Mcl_loss: 0.5826\n",
            "errSRGen: 4.2689 | errSRGen_bce: 3.6195| SRsl_loss: 0.0475 | SRct_loss: 0.3033 | SRcl_loss: 0.2986\n"
          ],
          "name": "stdout"
        },
        {
          "output_type": "stream",
          "text": [
            "\n",
            "\n",
            "\n",
            "\n",
            "\n",
            "\n",
            "\n",
            "\n",
            " 74%|███████▍  | 37/50 [51:39<18:12, 84.01s/it]\u001b[A\u001b[A\u001b[A\u001b[A\u001b[A\u001b[A\u001b[A\u001b[A"
          ],
          "name": "stderr"
        },
        {
          "output_type": "stream",
          "text": [
            "[0/180]\n",
            "MDis_real: 0.9475 | MDis_fake: 0.0526 | SRDis_real: 0.9738 | SRDis_fake: 0.0268\n",
            "errMDis: 0.1080 | errMDis_real: 0.0539 | errMDis_fake: 0.0541\n",
            "errSRDis: 0.0537 | errSRDis_real: 0.0266 | errSRDis_fake: 0.0271\n",
            "errMGen: 4.3059 | errMGen_bce: 2.9450 | Msl_loss: 0.7783 | Mcl_loss: 0.5826\n",
            "errSRGen: 4.2519 | errSRGen_bce: 3.6202| SRsl_loss: 0.0431 | SRct_loss: 0.2899 | SRcl_loss: 0.2986\n",
            "[60/180]\n",
            "MDis_real: 0.9475 | MDis_fake: 0.0526 | SRDis_real: 0.9739 | SRDis_fake: 0.0268\n",
            "errMDis: 0.1081 | errMDis_real: 0.0540 | errMDis_fake: 0.0541\n",
            "errSRDis: 0.0536 | errSRDis_real: 0.0265 | errSRDis_fake: 0.0271\n",
            "errMGen: 4.3894 | errMGen_bce: 2.9448 | Msl_loss: 0.8620 | Mcl_loss: 0.5826\n",
            "errSRGen: 4.2811 | errSRGen_bce: 3.6204| SRsl_loss: 0.0501 | SRct_loss: 0.3121 | SRcl_loss: 0.2986\n",
            "[120/180]\n",
            "MDis_real: 0.9474 | MDis_fake: 0.0526 | SRDis_real: 0.9739 | SRDis_fake: 0.0268\n",
            "errMDis: 0.1081 | errMDis_real: 0.0540 | errMDis_fake: 0.0540\n",
            "errSRDis: 0.0537 | errSRDis_real: 0.0265 | errSRDis_fake: 0.0272\n",
            "errMGen: 4.3629 | errMGen_bce: 2.9455 | Msl_loss: 0.8348 | Mcl_loss: 0.5826\n",
            "errSRGen: 4.2720 | errSRGen_bce: 3.6192| SRsl_loss: 0.0482 | SRct_loss: 0.3060 | SRcl_loss: 0.2986\n"
          ],
          "name": "stdout"
        },
        {
          "output_type": "stream",
          "text": [
            "\n",
            "\n",
            "\n",
            "\n",
            "\n",
            "\n",
            "\n",
            "\n",
            " 76%|███████▌  | 38/50 [53:04<16:50, 84.21s/it]\u001b[A\u001b[A\u001b[A\u001b[A\u001b[A\u001b[A\u001b[A\u001b[A"
          ],
          "name": "stderr"
        },
        {
          "output_type": "stream",
          "text": [
            "[0/180]\n",
            "MDis_real: 0.9474 | MDis_fake: 0.0525 | SRDis_real: 0.9738 | SRDis_fake: 0.0268\n",
            "errMDis: 0.1080 | errMDis_real: 0.0540 | errMDis_fake: 0.0540\n",
            "errSRDis: 0.0537 | errSRDis_real: 0.0265 | errSRDis_fake: 0.0271\n",
            "errMGen: 4.3687 | errMGen_bce: 2.9459 | Msl_loss: 0.8401 | Mcl_loss: 0.5826\n",
            "errSRGen: 4.2531 | errSRGen_bce: 3.6201| SRsl_loss: 0.0440 | SRct_loss: 0.2904 | SRcl_loss: 0.2986\n",
            "[60/180]\n",
            "MDis_real: 0.9474 | MDis_fake: 0.0526 | SRDis_real: 0.9738 | SRDis_fake: 0.0268\n",
            "errMDis: 0.1080 | errMDis_real: 0.0540 | errMDis_fake: 0.0540\n",
            "errSRDis: 0.0537 | errSRDis_real: 0.0265 | errSRDis_fake: 0.0271\n",
            "errMGen: 4.2562 | errMGen_bce: 2.9458 | Msl_loss: 0.7278 | Mcl_loss: 0.5826\n",
            "errSRGen: 4.2818 | errSRGen_bce: 3.6211| SRsl_loss: 0.0502 | SRct_loss: 0.3120 | SRcl_loss: 0.2986\n",
            "[120/180]\n",
            "MDis_real: 0.9474 | MDis_fake: 0.0525 | SRDis_real: 0.9739 | SRDis_fake: 0.0268\n",
            "errMDis: 0.1080 | errMDis_real: 0.0540 | errMDis_fake: 0.0540\n",
            "errSRDis: 0.0536 | errSRDis_real: 0.0265 | errSRDis_fake: 0.0271\n",
            "errMGen: 4.3506 | errMGen_bce: 2.9458 | Msl_loss: 0.8222 | Mcl_loss: 0.5826\n",
            "errSRGen: 4.2584 | errSRGen_bce: 3.6202| SRsl_loss: 0.0446 | SRct_loss: 0.2950 | SRcl_loss: 0.2986\n"
          ],
          "name": "stdout"
        },
        {
          "output_type": "stream",
          "text": [
            "\n",
            "\n",
            "\n",
            "\n",
            "\n",
            "\n",
            "\n",
            "\n",
            " 78%|███████▊  | 39/50 [54:28<15:25, 84.18s/it]\u001b[A\u001b[A\u001b[A\u001b[A\u001b[A\u001b[A\u001b[A\u001b[A"
          ],
          "name": "stderr"
        },
        {
          "output_type": "stream",
          "text": [
            "[0/180]\n",
            "MDis_real: 0.9473 | MDis_fake: 0.0526 | SRDis_real: 0.9739 | SRDis_fake: 0.0268\n",
            "errMDis: 0.1082 | errMDis_real: 0.0542 | errMDis_fake: 0.0540\n",
            "errSRDis: 0.0536 | errSRDis_real: 0.0265 | errSRDis_fake: 0.0271\n",
            "errMGen: 4.3031 | errMGen_bce: 2.9462 | Msl_loss: 0.7742 | Mcl_loss: 0.5826\n",
            "errSRGen: 4.2655 | errSRGen_bce: 3.6207| SRsl_loss: 0.0461 | SRct_loss: 0.3001 | SRcl_loss: 0.2986\n",
            "[60/180]\n",
            "MDis_real: 0.9472 | MDis_fake: 0.0525 | SRDis_real: 0.9738 | SRDis_fake: 0.0268\n",
            "errMDis: 0.1081 | errMDis_real: 0.0542 | errMDis_fake: 0.0539\n",
            "errSRDis: 0.0537 | errSRDis_real: 0.0265 | errSRDis_fake: 0.0271\n",
            "errMGen: 4.2727 | errMGen_bce: 2.9481 | Msl_loss: 0.7419 | Mcl_loss: 0.5826\n",
            "errSRGen: 4.2805 | errSRGen_bce: 3.6199| SRsl_loss: 0.0499 | SRct_loss: 0.3121 | SRcl_loss: 0.2986\n",
            "[120/180]\n",
            "MDis_real: 0.9473 | MDis_fake: 0.0525 | SRDis_real: 0.9738 | SRDis_fake: 0.0267\n",
            "errMDis: 0.1080 | errMDis_real: 0.0541 | errMDis_fake: 0.0539\n",
            "errSRDis: 0.0536 | errSRDis_real: 0.0265 | errSRDis_fake: 0.0271\n",
            "errMGen: 4.3918 | errMGen_bce: 2.9473 | Msl_loss: 0.8618 | Mcl_loss: 0.5826\n",
            "errSRGen: 4.2752 | errSRGen_bce: 3.6215| SRsl_loss: 0.0484 | SRct_loss: 0.3068 | SRcl_loss: 0.2986\n"
          ],
          "name": "stdout"
        },
        {
          "output_type": "stream",
          "text": [
            "\n",
            "\n",
            "\n",
            "\n",
            "\n",
            "\n",
            "\n",
            "\n",
            " 80%|████████  | 40/50 [55:52<14:01, 84.11s/it]\u001b[A\u001b[A\u001b[A\u001b[A\u001b[A\u001b[A\u001b[A\u001b[A"
          ],
          "name": "stderr"
        },
        {
          "output_type": "stream",
          "text": [
            "[0/180]\n",
            "MDis_real: 0.9475 | MDis_fake: 0.0525 | SRDis_real: 0.9738 | SRDis_fake: 0.0268\n",
            "errMDis: 0.1078 | errMDis_real: 0.0540 | errMDis_fake: 0.0539\n",
            "errSRDis: 0.0537 | errSRDis_real: 0.0265 | errSRDis_fake: 0.0271\n",
            "errMGen: 4.3110 | errMGen_bce: 2.9478 | Msl_loss: 0.7805 | Mcl_loss: 0.5826\n",
            "errSRGen: 4.2643 | errSRGen_bce: 3.6203| SRsl_loss: 0.0462 | SRct_loss: 0.2991 | SRcl_loss: 0.2986\n",
            "[60/180]\n",
            "MDis_real: 0.9474 | MDis_fake: 0.0525 | SRDis_real: 0.9739 | SRDis_fake: 0.0268\n",
            "errMDis: 0.1079 | errMDis_real: 0.0540 | errMDis_fake: 0.0540\n",
            "errSRDis: 0.0536 | errSRDis_real: 0.0265 | errSRDis_fake: 0.0271\n",
            "errMGen: 4.3175 | errMGen_bce: 2.9471 | Msl_loss: 0.7878 | Mcl_loss: 0.5826\n",
            "errSRGen: 4.2744 | errSRGen_bce: 3.6204| SRsl_loss: 0.0485 | SRct_loss: 0.3069 | SRcl_loss: 0.2986\n",
            "[120/180]\n",
            "MDis_real: 0.9475 | MDis_fake: 0.0525 | SRDis_real: 0.9739 | SRDis_fake: 0.0268\n",
            "errMDis: 0.1079 | errMDis_real: 0.0539 | errMDis_fake: 0.0540\n",
            "errSRDis: 0.0536 | errSRDis_real: 0.0265 | errSRDis_fake: 0.0272\n",
            "errMGen: 4.2508 | errMGen_bce: 2.9475 | Msl_loss: 0.7207 | Mcl_loss: 0.5826\n",
            "errSRGen: 4.2706 | errSRGen_bce: 3.6200| SRsl_loss: 0.0476 | SRct_loss: 0.3045 | SRcl_loss: 0.2986\n"
          ],
          "name": "stdout"
        },
        {
          "output_type": "stream",
          "text": [
            "\n",
            "\n",
            "\n",
            "\n",
            "\n",
            "\n",
            "\n",
            "\n",
            " 82%|████████▏ | 41/50 [57:17<12:38, 84.23s/it]\u001b[A\u001b[A\u001b[A\u001b[A\u001b[A\u001b[A\u001b[A\u001b[A"
          ],
          "name": "stderr"
        },
        {
          "output_type": "stream",
          "text": [
            "[0/180]\n",
            "MDis_real: 0.9475 | MDis_fake: 0.0525 | SRDis_real: 0.9738 | SRDis_fake: 0.0267\n",
            "errMDis: 0.1079 | errMDis_real: 0.0539 | errMDis_fake: 0.0539\n",
            "errSRDis: 0.0536 | errSRDis_real: 0.0265 | errSRDis_fake: 0.0271\n",
            "errMGen: 4.3134 | errMGen_bce: 2.9470 | Msl_loss: 0.7837 | Mcl_loss: 0.5826\n",
            "errSRGen: 4.2745 | errSRGen_bce: 3.6220| SRsl_loss: 0.0481 | SRct_loss: 0.3058 | SRcl_loss: 0.2986\n",
            "[60/180]\n",
            "MDis_real: 0.9475 | MDis_fake: 0.0525 | SRDis_real: 0.9739 | SRDis_fake: 0.0268\n",
            "errMDis: 0.1078 | errMDis_real: 0.0539 | errMDis_fake: 0.0540\n",
            "errSRDis: 0.0536 | errSRDis_real: 0.0265 | errSRDis_fake: 0.0271\n",
            "errMGen: 4.3726 | errMGen_bce: 2.9467 | Msl_loss: 0.8432 | Mcl_loss: 0.5826\n",
            "errSRGen: 4.2646 | errSRGen_bce: 3.6201| SRsl_loss: 0.0464 | SRct_loss: 0.2995 | SRcl_loss: 0.2986\n",
            "[120/180]\n",
            "MDis_real: 0.9475 | MDis_fake: 0.0525 | SRDis_real: 0.9739 | SRDis_fake: 0.0268\n",
            "errMDis: 0.1079 | errMDis_real: 0.0539 | errMDis_fake: 0.0540\n",
            "errSRDis: 0.0536 | errSRDis_real: 0.0264 | errSRDis_fake: 0.0271\n",
            "errMGen: 4.3551 | errMGen_bce: 2.9465 | Msl_loss: 0.8259 | Mcl_loss: 0.5826\n",
            "errSRGen: 4.2587 | errSRGen_bce: 3.6204| SRsl_loss: 0.0451 | SRct_loss: 0.2945 | SRcl_loss: 0.2986\n"
          ],
          "name": "stdout"
        },
        {
          "output_type": "stream",
          "text": [
            "\n",
            "\n",
            "\n",
            "\n",
            "\n",
            "\n",
            "\n",
            "\n",
            " 84%|████████▍ | 42/50 [58:41<11:13, 84.22s/it]\u001b[A\u001b[A\u001b[A\u001b[A\u001b[A\u001b[A\u001b[A\u001b[A"
          ],
          "name": "stderr"
        },
        {
          "output_type": "stream",
          "text": [
            "[0/180]\n",
            "MDis_real: 0.9475 | MDis_fake: 0.0525 | SRDis_real: 0.9738 | SRDis_fake: 0.0268\n",
            "errMDis: 0.1079 | errMDis_real: 0.0539 | errMDis_fake: 0.0540\n",
            "errSRDis: 0.0537 | errSRDis_real: 0.0265 | errSRDis_fake: 0.0271\n",
            "errMGen: 4.3011 | errMGen_bce: 2.9463 | Msl_loss: 0.7722 | Mcl_loss: 0.5826\n",
            "errSRGen: 4.2790 | errSRGen_bce: 3.6205| SRsl_loss: 0.0497 | SRct_loss: 0.3102 | SRcl_loss: 0.2986\n",
            "[60/180]\n",
            "MDis_real: 0.9475 | MDis_fake: 0.0525 | SRDis_real: 0.9739 | SRDis_fake: 0.0268\n",
            "errMDis: 0.1078 | errMDis_real: 0.0539 | errMDis_fake: 0.0540\n",
            "errSRDis: 0.0536 | errSRDis_real: 0.0265 | errSRDis_fake: 0.0271\n",
            "errMGen: 4.3525 | errMGen_bce: 2.9471 | Msl_loss: 0.8228 | Mcl_loss: 0.5826\n",
            "errSRGen: 4.2687 | errSRGen_bce: 3.6208| SRsl_loss: 0.0471 | SRct_loss: 0.3022 | SRcl_loss: 0.2986\n",
            "[120/180]\n",
            "MDis_real: 0.9475 | MDis_fake: 0.0525 | SRDis_real: 0.9739 | SRDis_fake: 0.0268\n",
            "errMDis: 0.1078 | errMDis_real: 0.0539 | errMDis_fake: 0.0539\n",
            "errSRDis: 0.0536 | errSRDis_real: 0.0265 | errSRDis_fake: 0.0271\n",
            "errMGen: 4.3061 | errMGen_bce: 2.9472 | Msl_loss: 0.7762 | Mcl_loss: 0.5826\n",
            "errSRGen: 4.2738 | errSRGen_bce: 3.6204| SRsl_loss: 0.0481 | SRct_loss: 0.3067 | SRcl_loss: 0.2986\n"
          ],
          "name": "stdout"
        },
        {
          "output_type": "stream",
          "text": [
            "\n",
            "\n",
            "\n",
            "\n",
            "\n",
            "\n",
            "\n",
            "\n",
            " 86%|████████▌ | 43/50 [1:00:05<09:49, 84.17s/it]\u001b[A\u001b[A\u001b[A\u001b[A\u001b[A\u001b[A\u001b[A\u001b[A"
          ],
          "name": "stderr"
        },
        {
          "output_type": "stream",
          "text": [
            "[0/180]\n",
            "MDis_real: 0.9475 | MDis_fake: 0.0525 | SRDis_real: 0.9739 | SRDis_fake: 0.0268\n",
            "errMDis: 0.1079 | errMDis_real: 0.0539 | errMDis_fake: 0.0540\n",
            "errSRDis: 0.0536 | errSRDis_real: 0.0265 | errSRDis_fake: 0.0271\n",
            "errMGen: 4.3857 | errMGen_bce: 2.9465 | Msl_loss: 0.8565 | Mcl_loss: 0.5826\n",
            "errSRGen: 4.2623 | errSRGen_bce: 3.6213| SRsl_loss: 0.0454 | SRct_loss: 0.2971 | SRcl_loss: 0.2986\n",
            "[60/180]\n",
            "MDis_real: 0.9475 | MDis_fake: 0.0525 | SRDis_real: 0.9739 | SRDis_fake: 0.0268\n",
            "errMDis: 0.1079 | errMDis_real: 0.0539 | errMDis_fake: 0.0539\n",
            "errSRDis: 0.0536 | errSRDis_real: 0.0265 | errSRDis_fake: 0.0271\n",
            "errMGen: 4.3748 | errMGen_bce: 2.9473 | Msl_loss: 0.8448 | Mcl_loss: 0.5826\n",
            "errSRGen: 4.2685 | errSRGen_bce: 3.6205| SRsl_loss: 0.0473 | SRct_loss: 0.3021 | SRcl_loss: 0.2986\n",
            "[120/180]\n",
            "MDis_real: 0.9476 | MDis_fake: 0.0525 | SRDis_real: 0.9739 | SRDis_fake: 0.0267\n",
            "errMDis: 0.1077 | errMDis_real: 0.0539 | errMDis_fake: 0.0539\n",
            "errSRDis: 0.0536 | errSRDis_real: 0.0265 | errSRDis_fake: 0.0271\n",
            "errMGen: 4.3102 | errMGen_bce: 2.9474 | Msl_loss: 0.7801 | Mcl_loss: 0.5826\n",
            "errSRGen: 4.2594 | errSRGen_bce: 3.6214| SRsl_loss: 0.0449 | SRct_loss: 0.2945 | SRcl_loss: 0.2986\n"
          ],
          "name": "stdout"
        },
        {
          "output_type": "stream",
          "text": [
            "\n",
            "\n",
            "\n",
            "\n",
            "\n",
            "\n",
            "\n",
            "\n",
            " 88%|████████▊ | 44/50 [1:01:30<08:26, 84.35s/it]\u001b[A\u001b[A\u001b[A\u001b[A\u001b[A\u001b[A\u001b[A\u001b[A"
          ],
          "name": "stderr"
        },
        {
          "output_type": "stream",
          "text": [
            "[0/180]\n",
            "MDis_real: 0.9475 | MDis_fake: 0.0525 | SRDis_real: 0.9738 | SRDis_fake: 0.0268\n",
            "errMDis: 0.1078 | errMDis_real: 0.0539 | errMDis_fake: 0.0539\n",
            "errSRDis: 0.0536 | errSRDis_real: 0.0265 | errSRDis_fake: 0.0271\n",
            "errMGen: 4.2918 | errMGen_bce: 2.9475 | Msl_loss: 0.7617 | Mcl_loss: 0.5826\n",
            "errSRGen: 4.2646 | errSRGen_bce: 3.6203| SRsl_loss: 0.0462 | SRct_loss: 0.2995 | SRcl_loss: 0.2986\n",
            "[60/180]\n",
            "MDis_real: 0.9475 | MDis_fake: 0.0525 | SRDis_real: 0.9739 | SRDis_fake: 0.0267\n",
            "errMDis: 0.1078 | errMDis_real: 0.0539 | errMDis_fake: 0.0539\n",
            "errSRDis: 0.0535 | errSRDis_real: 0.0264 | errSRDis_fake: 0.0271\n",
            "errMGen: 4.3410 | errMGen_bce: 2.9474 | Msl_loss: 0.8110 | Mcl_loss: 0.5826\n",
            "errSRGen: 4.2753 | errSRGen_bce: 3.6215| SRsl_loss: 0.0486 | SRct_loss: 0.3066 | SRcl_loss: 0.2986\n",
            "[120/180]\n",
            "MDis_real: 0.9475 | MDis_fake: 0.0525 | SRDis_real: 0.9738 | SRDis_fake: 0.0267\n",
            "errMDis: 0.1078 | errMDis_real: 0.0539 | errMDis_fake: 0.0539\n",
            "errSRDis: 0.0536 | errSRDis_real: 0.0265 | errSRDis_fake: 0.0271\n",
            "errMGen: 4.2770 | errMGen_bce: 2.9475 | Msl_loss: 0.7469 | Mcl_loss: 0.5826\n",
            "errSRGen: 4.2723 | errSRGen_bce: 3.6216| SRsl_loss: 0.0476 | SRct_loss: 0.3046 | SRcl_loss: 0.2986\n"
          ],
          "name": "stdout"
        },
        {
          "output_type": "stream",
          "text": [
            "\n",
            "\n",
            "\n",
            "\n",
            "\n",
            "\n",
            "\n",
            "\n",
            " 90%|█████████ | 45/50 [1:02:54<07:01, 84.23s/it]\u001b[A\u001b[A\u001b[A\u001b[A\u001b[A\u001b[A\u001b[A\u001b[A"
          ],
          "name": "stderr"
        },
        {
          "output_type": "stream",
          "text": [
            "[0/180]\n",
            "MDis_real: 0.9475 | MDis_fake: 0.0525 | SRDis_real: 0.9738 | SRDis_fake: 0.0268\n",
            "errMDis: 0.1078 | errMDis_real: 0.0539 | errMDis_fake: 0.0539\n",
            "errSRDis: 0.0537 | errSRDis_real: 0.0266 | errSRDis_fake: 0.0271\n",
            "errMGen: 4.3231 | errMGen_bce: 2.9476 | Msl_loss: 0.7928 | Mcl_loss: 0.5826\n",
            "errSRGen: 4.2669 | errSRGen_bce: 3.6212| SRsl_loss: 0.0465 | SRct_loss: 0.3006 | SRcl_loss: 0.2986\n",
            "[60/180]\n",
            "MDis_real: 0.9475 | MDis_fake: 0.0525 | SRDis_real: 0.9737 | SRDis_fake: 0.0268\n",
            "errMDis: 0.1079 | errMDis_real: 0.0539 | errMDis_fake: 0.0539\n",
            "errSRDis: 0.0537 | errSRDis_real: 0.0266 | errSRDis_fake: 0.0271\n",
            "errMGen: 4.3533 | errMGen_bce: 2.9464 | Msl_loss: 0.8243 | Mcl_loss: 0.5826\n",
            "errSRGen: 4.2724 | errSRGen_bce: 3.6211| SRsl_loss: 0.0479 | SRct_loss: 0.3048 | SRcl_loss: 0.2986\n",
            "[120/180]\n",
            "MDis_real: 0.9475 | MDis_fake: 0.0526 | SRDis_real: 0.9740 | SRDis_fake: 0.0267\n",
            "errMDis: 0.1079 | errMDis_real: 0.0539 | errMDis_fake: 0.0540\n",
            "errSRDis: 0.0534 | errSRDis_real: 0.0263 | errSRDis_fake: 0.0271\n",
            "errMGen: 4.2729 | errMGen_bce: 2.9457 | Msl_loss: 0.7445 | Mcl_loss: 0.5826\n",
            "errSRGen: 4.2739 | errSRGen_bce: 3.6217| SRsl_loss: 0.0480 | SRct_loss: 0.3057 | SRcl_loss: 0.2986\n"
          ],
          "name": "stdout"
        },
        {
          "output_type": "stream",
          "text": [
            "\n",
            "\n",
            "\n",
            "\n",
            "\n",
            "\n",
            "\n",
            "\n",
            " 92%|█████████▏| 46/50 [1:04:18<05:36, 84.25s/it]\u001b[A\u001b[A\u001b[A\u001b[A\u001b[A\u001b[A\u001b[A\u001b[A"
          ],
          "name": "stderr"
        },
        {
          "output_type": "stream",
          "text": [
            "[0/180]\n",
            "MDis_real: 0.9475 | MDis_fake: 0.0525 | SRDis_real: 0.9738 | SRDis_fake: 0.0268\n",
            "errMDis: 0.1079 | errMDis_real: 0.0540 | errMDis_fake: 0.0539\n",
            "errSRDis: 0.0537 | errSRDis_real: 0.0266 | errSRDis_fake: 0.0272\n",
            "errMGen: 4.2696 | errMGen_bce: 2.9466 | Msl_loss: 0.7404 | Mcl_loss: 0.5826\n",
            "errSRGen: 4.2623 | errSRGen_bce: 3.6198| SRsl_loss: 0.0458 | SRct_loss: 0.2982 | SRcl_loss: 0.2986\n",
            "[60/180]\n",
            "MDis_real: 0.9474 | MDis_fake: 0.0525 | SRDis_real: 0.9739 | SRDis_fake: 0.0267\n",
            "errMDis: 0.1080 | errMDis_real: 0.0540 | errMDis_fake: 0.0540\n",
            "errSRDis: 0.0536 | errSRDis_real: 0.0265 | errSRDis_fake: 0.0271\n",
            "errMGen: 4.3071 | errMGen_bce: 2.9463 | Msl_loss: 0.7782 | Mcl_loss: 0.5826\n",
            "errSRGen: 4.2723 | errSRGen_bce: 3.6219| SRsl_loss: 0.0479 | SRct_loss: 0.3040 | SRcl_loss: 0.2986\n",
            "[120/180]\n",
            "MDis_real: 0.9474 | MDis_fake: 0.0525 | SRDis_real: 0.9739 | SRDis_fake: 0.0268\n",
            "errMDis: 0.1079 | errMDis_real: 0.0540 | errMDis_fake: 0.0539\n",
            "errSRDis: 0.0536 | errSRDis_real: 0.0264 | errSRDis_fake: 0.0271\n",
            "errMGen: 4.4052 | errMGen_bce: 2.9464 | Msl_loss: 0.8761 | Mcl_loss: 0.5826\n",
            "errSRGen: 4.2697 | errSRGen_bce: 3.6206| SRsl_loss: 0.0477 | SRct_loss: 0.3028 | SRcl_loss: 0.2986\n"
          ],
          "name": "stdout"
        },
        {
          "output_type": "stream",
          "text": [
            "\n",
            "\n",
            "\n",
            "\n",
            "\n",
            "\n",
            "\n",
            "\n",
            " 94%|█████████▍| 47/50 [1:05:42<04:12, 84.27s/it]\u001b[A\u001b[A\u001b[A\u001b[A\u001b[A\u001b[A\u001b[A\u001b[A"
          ],
          "name": "stderr"
        },
        {
          "output_type": "stream",
          "text": [
            "[0/180]\n",
            "MDis_real: 0.9475 | MDis_fake: 0.0524 | SRDis_real: 0.9739 | SRDis_fake: 0.0267\n",
            "errMDis: 0.1078 | errMDis_real: 0.0539 | errMDis_fake: 0.0539\n",
            "errSRDis: 0.0536 | errSRDis_real: 0.0265 | errSRDis_fake: 0.0271\n",
            "errMGen: 4.3216 | errMGen_bce: 2.9473 | Msl_loss: 0.7916 | Mcl_loss: 0.5826\n",
            "errSRGen: 4.2596 | errSRGen_bce: 3.6209| SRsl_loss: 0.0448 | SRct_loss: 0.2953 | SRcl_loss: 0.2986\n",
            "[60/180]\n",
            "MDis_real: 0.9474 | MDis_fake: 0.0524 | SRDis_real: 0.9738 | SRDis_fake: 0.0267\n",
            "errMDis: 0.1079 | errMDis_real: 0.0540 | errMDis_fake: 0.0538\n",
            "errSRDis: 0.0536 | errSRDis_real: 0.0265 | errSRDis_fake: 0.0271\n",
            "errMGen: 4.3403 | errMGen_bce: 2.9467 | Msl_loss: 0.8110 | Mcl_loss: 0.5826\n",
            "errSRGen: 4.2837 | errSRGen_bce: 3.6215| SRsl_loss: 0.0507 | SRct_loss: 0.3129 | SRcl_loss: 0.2986\n",
            "[120/180]\n",
            "MDis_real: 0.9474 | MDis_fake: 0.0524 | SRDis_real: 0.9739 | SRDis_fake: 0.0267\n",
            "errMDis: 0.1079 | errMDis_real: 0.0541 | errMDis_fake: 0.0539\n",
            "errSRDis: 0.0536 | errSRDis_real: 0.0265 | errSRDis_fake: 0.0271\n",
            "errMGen: 4.2918 | errMGen_bce: 2.9470 | Msl_loss: 0.7622 | Mcl_loss: 0.5826\n",
            "errSRGen: 4.2752 | errSRGen_bce: 3.6215| SRsl_loss: 0.0483 | SRct_loss: 0.3069 | SRcl_loss: 0.2986\n"
          ],
          "name": "stdout"
        },
        {
          "output_type": "stream",
          "text": [
            "\n",
            "\n",
            "\n",
            "\n",
            "\n",
            "\n",
            "\n",
            "\n",
            " 96%|█████████▌| 48/50 [1:07:06<02:48, 84.26s/it]\u001b[A\u001b[A\u001b[A\u001b[A\u001b[A\u001b[A\u001b[A\u001b[A"
          ],
          "name": "stderr"
        },
        {
          "output_type": "stream",
          "text": [
            "[0/180]\n",
            "MDis_real: 0.9475 | MDis_fake: 0.0525 | SRDis_real: 0.9738 | SRDis_fake: 0.0267\n",
            "errMDis: 0.1079 | errMDis_real: 0.0540 | errMDis_fake: 0.0539\n",
            "errSRDis: 0.0536 | errSRDis_real: 0.0265 | errSRDis_fake: 0.0271\n",
            "errMGen: 4.2710 | errMGen_bce: 2.9464 | Msl_loss: 0.7420 | Mcl_loss: 0.5826\n",
            "errSRGen: 4.2673 | errSRGen_bce: 3.6214| SRsl_loss: 0.0469 | SRct_loss: 0.3004 | SRcl_loss: 0.2986\n",
            "[60/180]\n",
            "MDis_real: 0.9475 | MDis_fake: 0.0525 | SRDis_real: 0.9739 | SRDis_fake: 0.0267\n",
            "errMDis: 0.1079 | errMDis_real: 0.0540 | errMDis_fake: 0.0539\n",
            "errSRDis: 0.0536 | errSRDis_real: 0.0265 | errSRDis_fake: 0.0271\n",
            "errMGen: 4.3464 | errMGen_bce: 2.9463 | Msl_loss: 0.8175 | Mcl_loss: 0.5826\n",
            "errSRGen: 4.2738 | errSRGen_bce: 3.6220| SRsl_loss: 0.0480 | SRct_loss: 0.3052 | SRcl_loss: 0.2986\n",
            "[120/180]\n",
            "MDis_real: 0.9475 | MDis_fake: 0.0525 | SRDis_real: 0.9738 | SRDis_fake: 0.0267\n",
            "errMDis: 0.1079 | errMDis_real: 0.0539 | errMDis_fake: 0.0539\n",
            "errSRDis: 0.0536 | errSRDis_real: 0.0265 | errSRDis_fake: 0.0271\n",
            "errMGen: 4.2904 | errMGen_bce: 2.9462 | Msl_loss: 0.7615 | Mcl_loss: 0.5826\n",
            "errSRGen: 4.2673 | errSRGen_bce: 3.6224| SRsl_loss: 0.0464 | SRct_loss: 0.2999 | SRcl_loss: 0.2986\n"
          ],
          "name": "stdout"
        },
        {
          "output_type": "stream",
          "text": [
            "\n",
            "\n",
            "\n",
            "\n",
            "\n",
            "\n",
            "\n",
            "\n",
            " 98%|█████████▊| 49/50 [1:08:31<01:24, 84.36s/it]\u001b[A\u001b[A\u001b[A\u001b[A\u001b[A\u001b[A\u001b[A\u001b[A"
          ],
          "name": "stderr"
        },
        {
          "output_type": "stream",
          "text": [
            "[0/180]\n",
            "MDis_real: 0.9475 | MDis_fake: 0.0525 | SRDis_real: 0.9739 | SRDis_fake: 0.0267\n",
            "errMDis: 0.1079 | errMDis_real: 0.0539 | errMDis_fake: 0.0540\n",
            "errSRDis: 0.0536 | errSRDis_real: 0.0265 | errSRDis_fake: 0.0271\n",
            "errMGen: 4.3464 | errMGen_bce: 2.9463 | Msl_loss: 0.8174 | Mcl_loss: 0.5826\n",
            "errSRGen: 4.2772 | errSRGen_bce: 3.6218| SRsl_loss: 0.0488 | SRct_loss: 0.3080 | SRcl_loss: 0.2986\n",
            "[60/180]\n",
            "MDis_real: 0.9475 | MDis_fake: 0.0525 | SRDis_real: 0.9738 | SRDis_fake: 0.0267\n",
            "errMDis: 0.1079 | errMDis_real: 0.0539 | errMDis_fake: 0.0540\n",
            "errSRDis: 0.0536 | errSRDis_real: 0.0265 | errSRDis_fake: 0.0271\n",
            "errMGen: 4.3327 | errMGen_bce: 2.9467 | Msl_loss: 0.8033 | Mcl_loss: 0.5826\n",
            "errSRGen: 4.2615 | errSRGen_bce: 3.6219| SRsl_loss: 0.0454 | SRct_loss: 0.2957 | SRcl_loss: 0.2986\n",
            "[120/180]\n",
            "MDis_real: 0.9475 | MDis_fake: 0.0525 | SRDis_real: 0.9739 | SRDis_fake: 0.0268\n",
            "errMDis: 0.1078 | errMDis_real: 0.0539 | errMDis_fake: 0.0539\n",
            "errSRDis: 0.0536 | errSRDis_real: 0.0264 | errSRDis_fake: 0.0271\n",
            "errMGen: 4.3286 | errMGen_bce: 2.9471 | Msl_loss: 0.7989 | Mcl_loss: 0.5826\n",
            "errSRGen: 4.2761 | errSRGen_bce: 3.6206| SRsl_loss: 0.0488 | SRct_loss: 0.3082 | SRcl_loss: 0.2986\n"
          ],
          "name": "stdout"
        },
        {
          "output_type": "stream",
          "text": [
            "\n",
            "\n",
            "\n",
            "\n",
            "\n",
            "\n",
            "\n",
            "\n",
            "100%|██████████| 50/50 [1:09:55<00:00, 83.91s/it]"
          ],
          "name": "stderr"
        },
        {
          "output_type": "stream",
          "text": [
            "Training Finished\n"
          ],
          "name": "stdout"
        },
        {
          "output_type": "stream",
          "text": [
            "\n"
          ],
          "name": "stderr"
        }
      ]
    },
    {
      "cell_type": "markdown",
      "metadata": {
        "id": "rilbAigrmg0V"
      },
      "source": [
        "# **Plotting Losses and Visualisation**"
      ]
    },
    {
      "cell_type": "code",
      "metadata": {
        "id": "XyK-gJiqmf3r",
        "colab": {
          "base_uri": "https://localhost:8080/",
          "height": 350
        },
        "outputId": "2a4a6514-1ff5-4efd-bcb1-0eb22ac47ebc"
      },
      "source": [
        "plt.figure(figsize=(10,5))\n",
        "plt.title(\"Generator and Discriminator Loss During Training\")\n",
        "plt.plot(mGen_loss,label=\"MGen\")\n",
        "plt.plot(srGen_loss,label=\"SRGen\")\n",
        "plt.plot(mDis_loss,label=\"MDis\")\n",
        "plt.plot(srDis_loss,label=\"SRDis\")\n",
        "plt.xlabel(\"iterations\")\n",
        "plt.ylabel(\"Loss\")\n",
        "plt.legend()\n",
        "plt.gca().get_xaxis().set_major_formatter(FuncFormatter(lambda x, p: format(int(x*skip_steps), ',')))\n",
        "plt.show()"
      ],
      "execution_count": null,
      "outputs": [
        {
          "output_type": "display_data",
          "data": {
            "image/png": "[encoded data removed]",
            "text/plain": [
              "<Figure size 720x360 with 1 Axes>"
            ]
          },
          "metadata": {
            "tags": [],
            "needs_background": "light"
          }
        }
      ]
    },
    {
      "cell_type": "code",
      "metadata": {
        "colab": {
          "base_uri": "https://localhost:8080/",
          "height": 350
        },
        "id": "uPLDmmbfLGt8",
        "outputId": "b85df8ae-329c-469b-dd58-4578b86e7e44"
      },
      "source": [
        "plt.figure(figsize=(10,5))\n",
        "plt.title(\"Generator BCE Loss During Training\")\n",
        "plt.plot(mGen_bce,label=\"MGenBCE\")\n",
        "plt.plot(srGen_bce,label=\"SRGenBCE\")\n",
        "plt.xlabel(\"iterations\")\n",
        "plt.ylabel(\"Loss\")\n",
        "plt.legend()\n",
        "plt.gca().get_xaxis().set_major_formatter(FuncFormatter(lambda x, p: format(int(x*skip_steps), ',')))\n",
        "plt.show()"
      ],
      "execution_count": null,
      "outputs": [
        {
          "output_type": "display_data",
          "data": {
            "image/png": "[encoded data removed]",
            "text/plain": [
              "<Figure size 720x360 with 1 Axes>"
            ]
          },
          "metadata": {
            "tags": [],
            "needs_background": "light"
          }
        }
      ]
    },
    {
      "cell_type": "code",
      "metadata": {
        "id": "ar41xXgYnKd_",
        "colab": {
          "base_uri": "https://localhost:8080/",
          "height": 458
        },
        "outputId": "202c467f-a6f9-4007-df9d-221cc5f14737"
      },
      "source": [
        "plt.figure(figsize=(30,10))\n",
        "for i in range(len(mimg_list)-10, len(mimg_list)):\n",
        "  plt.subplot(2,10/2,i-(len(mimg_list)-10)+1)\n",
        "  plt.imshow(mimg_list[i-(len(mimg_list)-10)].mean(0).mean(0))#, cmap='gray')\n",
        "  plt.title('{}'.format((i-(len(mimg_list)-10))*500))\n",
        "plt.show()"
      ],
      "execution_count": null,
      "outputs": [
        {
          "output_type": "display_data",
          "data": {
            "image/png": "[encoded data removed]",
            "text/plain": [
              "<Figure size 2160x720 with 10 Axes>"
            ]
          },
          "metadata": {
            "tags": [],
            "needs_background": "light"
          }
        }
      ]
    },
    {
      "cell_type": "code",
      "metadata": {
        "id": "pinpd9L8nVwU",
        "colab": {
          "base_uri": "https://localhost:8080/",
          "height": 456
        },
        "outputId": "5c356dc6-9346-4cd2-ab9f-3cea6570e0e4"
      },
      "source": [
        "plt.figure(figsize=(30,10))\n",
        "for i in range(len(srimg_list)-10,len(srimg_list)):\n",
        "  plt.subplot(2,10/2,i-(len(srimg_list)-10)+1)\n",
        "  plt.imshow(srimg_list[i-(len(srimg_list)-10)].mean(0).mean(0))#, cmap='gray')\n",
        "  plt.title('{}'.format(i-(len(srimg_list)-10)*500))\n",
        "plt.show()"
      ],
      "execution_count": null,
      "outputs": [
        {
          "output_type": "display_data",
          "data": {
            "image/png": "[encoded data removed]",
            "text/plain": [
              "<Figure size 2160x720 with 10 Axes>"
            ]
          },
          "metadata": {
            "tags": [],
            "needs_background": "light"
          }
        }
      ]
    },
    {
      "cell_type": "code",
      "metadata": {
        "id": "9r5npx6pxNW2",
        "colab": {
          "base_uri": "https://localhost:8080/"
        },
        "outputId": "7a76de21-66b5-4862-e56f-d84a2186db09"
      },
      "source": [
        "\n",
        "print(\"Saving models at epoch: {}\".format(num_epochs))\n",
        "torch.save(mGen.state_dict(), '/content/drive/MyDrive/mGen-{}.pt'.format(num_epochs))\n",
        "torch.save(mDis.state_dict(), '/content/drive/MyDrive/mDis-{}.pt'.format(num_epochs))\n",
        "torch.save(srGen.state_dict(), '/content/drive/MyDrive/srGen-{}.pt'.format(num_epochs))\n",
        "torch.save(srDis.state_dict(), '/content/drive/MyDrive/srDis-{}.pt'.format(num_epochs))\n"
      ],
      "execution_count": null,
      "outputs": [
        {
          "output_type": "stream",
          "text": [
            "Saving models at epoch: 50\n"
          ],
          "name": "stdout"
        }
      ]
    },
    {
      "cell_type": "code",
      "metadata": {
        "id": "fCqk6--yLfD_"
      },
      "source": [
        ""
      ],
      "execution_count": null,
      "outputs": []
    }
  ]
}